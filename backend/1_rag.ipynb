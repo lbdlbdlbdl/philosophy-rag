{
 "cells": [
  {
   "cell_type": "code",
   "execution_count": 6,
   "id": "11b6ab82-4d8e-4065-9717-b8184693a2ff",
   "metadata": {},
   "outputs": [
    {
     "name": "stderr",
     "output_type": "stream",
     "text": [
      "/usr/local/lib/python3.12/site-packages/sentence_transformers/cross_encoder/CrossEncoder.py:13: TqdmExperimentalWarning: Using `tqdm.autonotebook.tqdm` in notebook mode. Use `tqdm.tqdm` instead to force console mode (e.g. in jupyter console)\n",
      "  from tqdm.autonotebook import tqdm, trange\n"
     ]
    },
    {
     "data": {
      "application/vnd.jupyter.widget-view+json": {
       "model_id": "07b3df1ef67f4ffba9849ea9714dfcd8",
       "version_major": 2,
       "version_minor": 0
      },
      "text/plain": [
       "modules.json:   0%|          | 0.00/349 [00:00<?, ?B/s]"
      ]
     },
     "metadata": {},
     "output_type": "display_data"
    },
    {
     "data": {
      "application/vnd.jupyter.widget-view+json": {
       "model_id": "d245b77b838740b7b7cce4a3b8c27f83",
       "version_major": 2,
       "version_minor": 0
      },
      "text/plain": [
       "config_sentence_transformers.json:   0%|          | 0.00/116 [00:00<?, ?B/s]"
      ]
     },
     "metadata": {},
     "output_type": "display_data"
    },
    {
     "data": {
      "application/vnd.jupyter.widget-view+json": {
       "model_id": "26050e7b3d8d4b65a91f43775c89c506",
       "version_major": 2,
       "version_minor": 0
      },
      "text/plain": [
       "README.md:   0%|          | 0.00/10.6k [00:00<?, ?B/s]"
      ]
     },
     "metadata": {},
     "output_type": "display_data"
    },
    {
     "data": {
      "application/vnd.jupyter.widget-view+json": {
       "model_id": "849cdc8278294e6288b55d4a2d262cf2",
       "version_major": 2,
       "version_minor": 0
      },
      "text/plain": [
       "sentence_bert_config.json:   0%|          | 0.00/53.0 [00:00<?, ?B/s]"
      ]
     },
     "metadata": {},
     "output_type": "display_data"
    },
    {
     "data": {
      "application/vnd.jupyter.widget-view+json": {
       "model_id": "2b3134dbb9974d94b8bafeb31ffeb64a",
       "version_major": 2,
       "version_minor": 0
      },
      "text/plain": [
       "config.json:   0%|          | 0.00/571 [00:00<?, ?B/s]"
      ]
     },
     "metadata": {},
     "output_type": "display_data"
    },
    {
     "data": {
      "application/vnd.jupyter.widget-view+json": {
       "model_id": "219cb7799a304a8b952202df92577b6b",
       "version_major": 2,
       "version_minor": 0
      },
      "text/plain": [
       "model.safetensors:   0%|          | 0.00/438M [00:00<?, ?B/s]"
      ]
     },
     "metadata": {},
     "output_type": "display_data"
    },
    {
     "data": {
      "application/vnd.jupyter.widget-view+json": {
       "model_id": "2a84bb0abcb048689b723a0427a6290c",
       "version_major": 2,
       "version_minor": 0
      },
      "text/plain": [
       "tokenizer_config.json:   0%|          | 0.00/363 [00:00<?, ?B/s]"
      ]
     },
     "metadata": {},
     "output_type": "display_data"
    },
    {
     "data": {
      "application/vnd.jupyter.widget-view+json": {
       "model_id": "0fbd5eebf6a549fe827cd267103eda84",
       "version_major": 2,
       "version_minor": 0
      },
      "text/plain": [
       "vocab.txt:   0%|          | 0.00/232k [00:00<?, ?B/s]"
      ]
     },
     "metadata": {},
     "output_type": "display_data"
    },
    {
     "data": {
      "application/vnd.jupyter.widget-view+json": {
       "model_id": "06cb994b1bdb4472b2c5c22db3e2d075",
       "version_major": 2,
       "version_minor": 0
      },
      "text/plain": [
       "tokenizer.json:   0%|          | 0.00/466k [00:00<?, ?B/s]"
      ]
     },
     "metadata": {},
     "output_type": "display_data"
    },
    {
     "data": {
      "application/vnd.jupyter.widget-view+json": {
       "model_id": "ece02bc7e6fe4996b3fc31e5a870ace9",
       "version_major": 2,
       "version_minor": 0
      },
      "text/plain": [
       "special_tokens_map.json:   0%|          | 0.00/239 [00:00<?, ?B/s]"
      ]
     },
     "metadata": {},
     "output_type": "display_data"
    },
    {
     "data": {
      "application/vnd.jupyter.widget-view+json": {
       "model_id": "c52841f572c04832a54d6fb9a8b32da2",
       "version_major": 2,
       "version_minor": 0
      },
      "text/plain": [
       "1_Pooling/config.json:   0%|          | 0.00/190 [00:00<?, ?B/s]"
      ]
     },
     "metadata": {},
     "output_type": "display_data"
    }
   ],
   "source": [
    "from sentence_transformers import SentenceTransformer\n",
    "model = SentenceTransformer(\"all-mpnet-base-v2\")"
   ]
  },
  {
   "cell_type": "code",
   "execution_count": 1,
   "id": "608a6d4e-1e48-4d57-8007-28d1fe9b6acb",
   "metadata": {},
   "outputs": [
    {
     "data": {
      "text/plain": [
       "ObjectApiResponse({'name': 'instance-0000000001', 'cluster_name': '6c9035e88be14fde8b472235f08f3eb0', 'cluster_uuid': 'vGKmsyKQTNOcT7_OMzATgQ', 'version': {'number': '8.15.2', 'build_flavor': 'default', 'build_type': 'docker', 'build_hash': '98adf7bf6bb69b66ab95b761c9e5aadb0bb059a3', 'build_date': '2024-09-19T10:06:03.564235954Z', 'build_snapshot': False, 'lucene_version': '9.11.1', 'minimum_wire_compatibility_version': '7.17.0', 'minimum_index_compatibility_version': '7.0.0'}, 'tagline': 'You Know, for Search'})"
      ]
     },
     "execution_count": 1,
     "metadata": {},
     "output_type": "execute_result"
    }
   ],
   "source": [
    "import os\n",
    "from dotenv import load_dotenv\n",
    "from elasticsearch import Elasticsearch, helpers\n",
    "\n",
    "load_dotenv()\n",
    "\n",
    "es_client = Elasticsearch(f\"{os.getenv('ELASTIC_HOST')}:{os.getenv('ELASTIC_PORT')}\", api_key=os.getenv('ELASTIC_API_KEY'))\n",
    "es_client.info()"
   ]
  },
  {
   "cell_type": "markdown",
   "id": "1265c575-75ba-4be5-9690-ff2c969f8131",
   "metadata": {},
   "source": [
    "### Create user query for searching in ES (vector search)"
   ]
  },
  {
   "cell_type": "code",
   "execution_count": 2,
   "id": "12718e6f-a950-432f-a84c-df1697f55b5e",
   "metadata": {},
   "outputs": [],
   "source": [
    "# User query:\n",
    "question = \"tell me about abduction\""
   ]
  },
  {
   "cell_type": "code",
   "execution_count": 4,
   "id": "c20fbe3d-5144-4172-9698-e601d7d017b7",
   "metadata": {},
   "outputs": [],
   "source": [
    "def knn_query(question):\n",
    "    return {\n",
    "        \"field\": \"vector_sectionPath_content\",\n",
    "        \"query_vector\": model.encode(question).tolist(),  \n",
    "        \"k\": 7,\n",
    "        \"num_candidates\": 10000,\n",
    "    }"
   ]
  },
  {
   "cell_type": "code",
   "execution_count": 7,
   "id": "26dcc7f7-f771-41f3-b0bc-a0943b530d6c",
   "metadata": {
    "scrolled": true
   },
   "outputs": [
    {
     "data": {
      "text/plain": [
       "[{'_index': 'philosophy',\n",
       "  '_id': '8499745946def21e570ae45e9a8b2a82',\n",
       "  '_score': 0.8665583,\n",
       "  '_source': {'chunk_id': '8499745946def21e570ae45e9a8b2a82',\n",
       "   'article_title': 'Abduction',\n",
       "   'content': '\\nIn textbooks on epistemology or the philosophy of science, one often\\nencounters something like the following as a formulation of\\nabduction:'}},\n",
       " {'_index': 'philosophy',\n",
       "  '_id': '81e573a9d329de10a9651c19c4907dc2',\n",
       "  '_score': 0.847533,\n",
       "  '_ignored': ['content.keyword'],\n",
       "  '_source': {'chunk_id': '81e573a9d329de10a9651c19c4907dc2',\n",
       "   'article_title': 'Abduction',\n",
       "   'content': '\\nYou happen to know that Tim and Harry have recently had a terrible row\\nthat ended their friendship. Now someone tells you that she just saw\\nTim and Harry jogging together. The best explanation for this that you\\ncan think of is that they made up. You conclude that they are friends\\nagain.'}},\n",
       " {'_index': 'philosophy',\n",
       "  '_id': 'a769e7233c923d5482ef84a18d34e322',\n",
       "  '_score': 0.84477806,\n",
       "  '_source': {'chunk_id': 'a769e7233c923d5482ef84a18d34e322',\n",
       "   'article_title': 'Abduction',\n",
       "   'content': '\\nNeedless to say, ABD2 needs supplementing by a criterion for the\\nsatisfactoriness of explanations, or their being good enough, which,\\nhowever, we are still lacking.'}},\n",
       " {'_index': 'philosophy',\n",
       "  '_id': '209998281eac41cd3e3b55194219adaa',\n",
       "  '_score': 0.8350055,\n",
       "  '_source': {'chunk_id': '209998281eac41cd3e3b55194219adaa',\n",
       "   'article_title': 'Abduction',\n",
       "   'content': '\\nClearly, ABD3 requires an account of closeness to the truth, but many\\nsuch accounts are on offer today (see, e.g., Niiniluoto 1998).'}},\n",
       " {'_index': 'philosophy',\n",
       "  '_id': '806563744b1ad2c6fdc20c84694a9061',\n",
       "  '_score': 0.8285997,\n",
       "  '_ignored': ['content.keyword'],\n",
       "  '_source': {'chunk_id': '806563744b1ad2c6fdc20c84694a9061',\n",
       "   'article_title': 'Abduction',\n",
       "   'content': '\\nThe type of inference exemplified in the cases described at the\\nbeginning of this entry will strike most as entirely familiar.\\nPhilosophers as well as psychologists tend to agree that abduction is\\nfrequently employed in everyday reasoning. Sometimes our reliance on\\nabductive reasoning is quite obvious and explicit. But in some daily\\npractices, it may be so routine and automatic that it easily goes\\nunnoticed. A case in point may be our trust in other people’s\\ntestimony, which has been said to rest on abductive reasoning; see\\nHarman 1965, Adler 1994, Fricker 1994, and Lipton 1998 for defenses of\\nthis claim. For instance, according to Jonathan Adler (1994, 274f),\\n“[t]he best explanation for why the informant asserts that\\nP is normally that … he believes it for duly responsible\\nreasons and … he intends that I shall believe it too,”\\nwhich is why we are normally justified in trusting the\\ninformant’s testimony. This may well be correct, even though in\\ncoming to trust a person’s testimony one does not normally seem\\nto be aware of any abductive reasoning going on in one’s mind.\\nSimilar remarks may apply to what some hold to be a further, possibly\\neven more fundamental, role of abduction in linguistic practice, to\\nwit, its role in determining what a speaker means by an utterance.\\nSpecifically, it has been argued that decoding utterances is a matter\\nof inferring the best explanation of why someone said what he or she\\nsaid in the context in which the utterance was made. Even more\\nspecifically, authors working in the field of pragmatics have\\nsuggested that hearers invoke the Gricean maxims of conversation to\\nhelp them work out the best explanation of a speaker’s utterance\\nwhenever the semantic content of the utterance is insufficiently\\ninformative for the purposes of the conversation, or is too\\ninformative, or off-topic, or implausible, or otherwise odd or\\ninappropriate; see, for instance, Bach and Harnish 1979 (92f), Dascal\\n1979 (167), and Hobbs 2004. As in cases of reliance on speaker\\ntestimony, the requisite abductive reasoning would normally seem to\\ntake place at a subconscious level. \\nAbductive reasoning is not limited to everyday contexts. Quite the\\ncontrary: philosophers of science have argued that abduction is a\\ncornerstone of scientific methodology; see, for instance, Boyd 1981,\\n1984, Harré 1986, 1988, Lipton 1991, 2004, and Psillos 1999.\\nAccording to Timothy Williamson (2007), “[t]he abductive\\nmethodology is the best science provides” and Ernan McMullin\\n(1992) even goes so far to call abduction “the inference that\\nmakes science.” To illustrate the use of abduction in science,\\nwe consider two examples. \\nAt the beginning of the nineteenth century, it was discovered that the\\norbit of Uranus, one of the seven planets known at the time, departed\\nfrom the orbit as predicted on the basis of Isaac Newton’s\\ntheory of universal gravitation and the auxiliary assumption that\\nthere were no further planets in the solar system. One possible\\nexplanation was, of course, that Newton’s theory is false. Given\\nits great empirical successes for (then) more than two centuries, that\\ndid not appear to be a very good explanation. Two astronomers, John\\nCouch Adams and Urbain Leverrier, instead suggested (independently of\\neach other but almost simultaneously) that there was an eighth, as yet\\nundiscovered planet in the solar system; that, they thought, provided\\nthe best explanation of Uranus’ deviating orbit. Not much later,\\nthis planet, which is now known as “Neptune,” was\\ndiscovered. \\nThe second example concerns what is now commonly regarded to have been\\nthe discovery of the electron by the English physicist Joseph John\\nThomson. Thomson had conducted experiments on cathode rays in order to\\ndetermine whether they are streams of charged particles. He concluded\\nthat they are indeed, reasoning as follows: \\n\\n\\nAs the cathode rays carry a charge of negative electricity, are\\ndeflected by an electrostatic force as if they were negatively\\nelectrified, and are acted on by a magnetic force in just the way in\\nwhich this force would act on a negatively electrified body moving\\nalong the path of these rays, I can see no escape from the conclusion\\nthat they are charges of negative electricity carried by particles of\\nmatter. (Thomson, cited in Achinstein 2001, 17)\\n \\nThe conclusion that cathode rays consist of negatively charged\\nparticles does not follow logically from the reported experimental\\nresults, nor could Thomson draw on any relevant statistical data. That\\nnevertheless he could “see no escape from the conclusion”\\nis, we may safely assume, because the conclusion is the best—in\\nthis case presumably even the only plausible—explanation of his\\nresults that he could think of. \\nMany other examples of scientific uses of abduction have been\\ndiscussed in the literature; see, for instance, Harré 1986,\\n1988 and Lipton 1991, 2004. Abduction is also said to be the\\npredominant mode of reasoning in medical diagnosis: physicians tend to\\ngo for the hypothesis that best explains the patient’s symptoms\\n(see Josephson and Josephson (eds.) 1994, 9–12; see also\\nDragulinescu 2016 on abductive reasoning in the context of\\nmedicine). \\nLast but not least, abduction plays a central role in some important\\nphilosophical debates. See Shalkowski 2010 on the place of abduction\\nin metaphysics (also Bigelow 2010), Krzyżanowska, Wenmackers, and\\nDouven 2014 and Douven 2016a for a possible role of\\nabduction in the semantics of conditionals, and Williamson\\n2017 for an application of abduction in the philosophy of logic.\\nArguably, however, abduction plays its most notable philosophical role\\nin epistemology and in the philosophy of science, where it is\\nfrequently invoked in objections to so-called underdetermination\\narguments. Underdetermination arguments generally start from the\\npremise that a number of given hypotheses are empirically equivalent,\\nwhich their authors take to mean that the evidence—indeed, any\\nevidence we might ever come to possess—is unable to favor one of\\nthem over the others. From this, we are supposed to conclude that one\\ncan never be warranted in believing any particular one of the\\nhypotheses. (This is rough, but it will do for present purposes; see\\nDouven 2008 and Stanford 2009, for more detailed accounts of\\nunderdetermination arguments.) A famous instance of this type of\\nargument is the Cartesian argument for global skepticism, according to\\nwhich the hypothesis that reality is more or less the way we\\ncustomarily deem it to be is empirically equivalent to a variety of\\nso-called skeptical hypotheses (such as that we are beguiled by an\\nevil demon, or that we are brains in a vat, connected to a\\nsupercomputer; see, e.g., Folina 2016). Similar arguments have been\\ngiven in support of scientific antirealism, according to which it will\\nnever be warranted for us to choose between empirically equivalent\\nrivals concerning what underlies the observable part of reality (van\\nFraassen 1980). \\nResponses to these arguments typically point to the fact that the\\nnotion of empirical equivalence at play unduly neglects explanatory\\nconsiderations, for instance, by defining the notion strictly in terms\\nof hypotheses’ making the same predictions. Those responding\\nthen argue that even if some hypotheses make exactly the same\\npredictions, one of them may still be a better explanation of the\\nphenomena predicted. Thus, if explanatory considerations have a role\\nin determining which inferences we are licensed to make—as\\naccording to defenders of abduction they have—then we might\\nstill be warranted in believing in the truth (or probable truth, or\\nsome such, depending—as will be seen below—on the version\\nof abduction one assumes) of one of a number of hypotheses that all\\nmake the same predictions. Following Bertrand Russell (1912, Ch. 2),\\nmany epistemologists have invoked abduction in arguing against\\nCartesian skepticism, their key claim being that even though, by\\nconstruction, the skeptical hypotheses make the same predictions as\\nthe hypothesis that reality is more or less the way we ordinarily take\\nit to be, they are not equally good explanations of what they predict;\\nin particular, the skeptical hypotheses have been said to be\\nconsiderably less simple than the “ordinary world”\\nhypothesis. See, among many others, Harman 1973 (Chs. 8 and 11),\\nGoldman 1988 (205), Moser 1989 (161), and Vogel 1990, 2005; see\\nPargetter 1984 for an abductive response specifically to skepticism\\nregarding other minds. Similarly, philosophers of science have argued\\nthat we are warranted to believe in Special Relativity Theory as\\nopposed to Lorentz’s version of the æther theory. For even\\nthough these theories make the same predictions, the former is\\nexplanatorily superior to the latter. (Most arguments that have been\\ngiven for this claim come down to the contention that Special\\nRelativity Theory is ontologically more parsimonious than its\\ncompetitor, which postulates the existence of an æther. See\\nJanssen 2002 for an excellent discussion of the various reasons\\nphilosophers of science have adduced for preferring Einstein’s\\ntheory to Lorentz’s.)'}},\n",
       " {'_index': 'philosophy',\n",
       "  '_id': '69da7307a5a7eb89d8c73a877841e42e',\n",
       "  '_score': 0.824322,\n",
       "  '_ignored': ['content.keyword'],\n",
       "  '_source': {'chunk_id': '69da7307a5a7eb89d8c73a877841e42e',\n",
       "   'article_title': 'Abduction',\n",
       "   'content': '\\nWe have already encountered the so-called argument of the bad lot,\\nwhich, we saw, is valid as a criticism of ABD1 but powerless against\\nvarious (what we called) congruous rules of abduction. We here\\nconsider two objections that are meant to be more general. The first\\neven purports to challenge the core idea underlying abduction; the\\nsecond is not quite as general, but it is still meant to undermine a\\nbroad class of candidate explications of abduction. Both objections\\nare due to Bas van Fraassen. \\nThe first objection has as a premise that it is part of the meaning of\\n“explanation” that if one theory is more explanatory than\\nanother, the former must be more informative than the latter (see,\\ne.g., van Fraassen 1983, Sect. 2). The alleged problem then is that it\\nis “an elementary logical point that a more informative theory\\ncannot be more likely to be true [and thus] attempts to describe\\ninductive or evidential support through features that require\\ninformation (such as ‘Inference to the Best Explanation’)\\nmust either contradict themselves or equivocate” (van Fraassen\\n1989, 192). The elementary logical point is supposed to be “most\\n[obvious] … in the paradigm case in which one theory is an\\nextension of another: clearly the extension has more ways of being\\nfalse” (van Fraassen 1985, 280). \\nIt is important to note, however, that in any other kind of case than\\nthe “paradigm” one, the putative elementary point is not\\nobvious at all. For instance, it is entirely unclear in what sense\\nSpecial Relativity Theory “has more ways of being false”\\nthan Lorentz’s version of the æther theory, given that\\nthey make the same predictions. And yet the former is generally\\nregarded as being superior, qua explanation, to the latter.\\n(If van Fraassen were to object that the former is not really more\\ninformative than the latter, or at any rate not more informative in\\nthe appropriate sense—whatever that is—then we should\\ncertainly refuse to grant the premise that in order to be more\\nexplanatory a theory must be more informative.) \\nThe second objection, proffered in van Fraassen 1989 (Ch. 6), is\\nlevelled at probabilistic versions of abduction. The objection is that\\nsuch rules must either amount to Bayes’ rule, and thus be\\nredundant, or be at variance with it but then, on the grounds of\\nLewis’ dynamic Dutch book argument (as reported in Teller 1973),\\nbe probabilistically incoherent, meaning that they may lead one to\\nassess as fair a number of bets which together ensure a financial\\nloss, come what may; and, van Fraassen argues, it would be irrational\\nto follow a rule that has this feature. \\nHowever, this objection fares no better than the first. For one thing,\\nas Patrick Maher (1992) and Brian Skyrms (1993) have pointed out, a\\nloss in one respect may be outweighed by a benefit in another. It\\nmight be, for instance, that some probabilistic version of abduction\\ndoes much better, at least in our world, than Bayes’ rule, in\\nthat, on average, it approaches the truth faster in the sense that it\\nis faster in assigning a high probability (understood as probability\\nabove a certain threshold value) to the true hypothesis (see Douven\\n2013, 2020, and Douven and Wenmackers 2017; see Climenhaga\\n2017 for discussion). If it does, then following that rule\\ninstead of Bayes’ rule may have advantages which perhaps are not\\nso readily expressed in terms of money yet which should arguably be\\ntaken into account when deciding which rule to go by. It is, in short,\\nnot so clear whether following a probabilistically incoherent rule\\nmust be irrational. \\nFor another thing, Douven (1999) argues that the question of whether a\\nprobabilistic rule is coherent is not one that can be settled\\nindependently of considering which other epistemic and\\ndecision-theoretic rules are deployed along with it; coherence should\\nbe understood as a property of packages of both epistemic and\\ndecision-theoretic rules, not of epistemic rules (such as\\nprobabilistic rules for belief change) in isolation. In the same\\npaper, a coherent package of rules is described which includes a\\nprobabilistic version of abduction. (See Kvanvig 1994, Harman 1997,\\nLeplin 1997, Niiniluoto 1999, and Okasha 2000, for different responses\\nto van Fraassen’s critique of probabilistic versions of\\nabduction.)'}},\n",
       " {'_index': 'philosophy',\n",
       "  '_id': '603011c48c8bfc490ae806a1ba1b143c',\n",
       "  '_score': 0.8193388,\n",
       "  '_ignored': ['content.keyword'],\n",
       "  '_source': {'chunk_id': '603011c48c8bfc490ae806a1ba1b143c',\n",
       "   'article_title': 'Abduction',\n",
       "   'content': '\\nHardly anyone nowadays would want to subscribe to a conception of\\ntruth that posits a necessary connection between explanatory force and\\ntruth—for instance, because it stipulates explanatory\\nsuperiority to be necessary for truth. As a result, a priori defenses\\nof abduction seem out of the question. Indeed, all defenses that have\\nbeen given so far are of an empirical nature in that they appeal to\\ndata that supposedly support the claim that (in some form) abduction\\nis a reliable rule of inference. \\nThe best-known argument of this sort was developed by Richard Boyd in\\nthe 1980s (see Boyd 1981, 1984, 1985). It starts by underlining the\\ntheory-dependency of scientific methodology, which comprises methods\\nfor designing experiments, for assessing data, for choosing between\\nrival hypotheses, and so on. For instance, in considering possible\\nconfounding factors from which an experimental setup has to be\\nshielded, scientists draw heavily on already accepted theories. The\\nargument next calls attention to the apparent reliability of this\\nmethodology, which, after all, has yielded, and continues to yield,\\nimpressively accurate theories. In particular, by relying on this\\nmethodology, scientists have for some time now been able to find ever\\nmore instrumentally adequate theories. Boyd then argues that the\\nreliability of scientific methodology is best explained by assuming\\nthat the theories on which it relies are at least approximately true.\\nFrom this and from the fact that these theories were mostly arrived at\\nby abductive reasoning, he concludes that abduction must be a reliable\\nrule of inference. \\nCritics have accused this argument of being circular. Specifically, it\\nhas been said that the argument rests on a premise—that\\nscientific methodology is informed by approximately true background\\ntheories—which in turn rests on an inference to the best\\nexplanation for its plausibility. And the reliability of this type of\\ninference is precisely what is at stake. (See, for instance, Laudan\\n1981 and Fine 1984.) \\nTo this, Stathis Psillos (1999, Ch. 4) has responded by invoking a\\ndistinction credited to Richard Braithwaite, to wit, the distinction\\nbetween premise-circularity and rule-circularity. An argument is\\npremise-circular if its conclusion is amongst its premises. A\\nrule-circular argument, by contrast, is an argument of which the\\nconclusion asserts something about an inferential rule that is used in\\nthe very same argument. As Psillos urges, Boyd’s argument is\\nrule-circular, but not premise-circular, and rule-circular arguments,\\nPsillos contends, need not be viciously circular (even though\\na premise-circular argument is always viciously circular). To be more\\nprecise, in his view, an argument for the reliability of a given rule\\nR that essentially relies on R as an inferential\\nprinciple is not vicious, provided that the use of R does not\\nguarantee a positive conclusion about R’s reliability.\\nPsillos claims that in Boyd’s argument, this proviso is met. For\\nwhile Boyd concludes that the background theories on which scientific\\nmethodology relies are approximately true on the basis of an abductive\\nstep, the use of abduction itself does not guarantee the truth of his\\nconclusion. After all, granting the use of abduction does nothing to\\nensure that the best explanation of the success of scientific\\nmethodology is the approximate truth of the relevant background\\ntheories. Thus, Psillos concludes, Boyd’s argument still\\nstands. \\nEven if the use of abduction in Boyd’s argument might have led\\nto the conclusion that abduction is not reliable, one may\\nstill have worries about the argument’s being rule-circular. For\\nsuppose that some scientific community relied not on abduction but on\\na rule that we may dub “Inference to the Worst\\nExplanation” (IWE), a rule that sanctions inferring to the\\nworst explanation of the available data. We may safely assume\\nthat the use of this rule mostly would lead to the adoption of very\\nunsuccessful theories. Nevertheless, the said community might justify\\nits use of IWE by dint of the following reasoning: “Scientific\\ntheories tend to be hugely unsuccessful. These theories were arrived\\nat by application of IWE. That IWE is a reliable rule of\\ninference—that is, a rule of inference mostly leading from true\\npremises to true conclusions—is surely the worst explanation of\\nthe fact that our theories are so unsuccessful. Hence, by application\\nof IWE, we may conclude that IWE is a reliable rule of\\ninference.” While this would be an utterly absurd conclusion,\\nthe argument leading up to it cannot be convicted of being viciously\\ncircular anymore than Boyd’s argument for the reliability of\\nabduction can (if Psillos is right). It would appear, then, that there\\nmust be something else amiss with rule-circularity. \\nIt is fair to note that for Psillos, the fact that a rule-circular\\nargument does not guarantee a positive conclusion about the rule at\\nissue is not sufficient for such an argument to be valid. A further\\nnecessary condition is “that one should not have reason to doubt\\nthe reliability of the rule—that there is nothing currently\\navailable which can make one distrust the rule” (Psillos 1999,\\n85). And there is plenty of reason to doubt the reliability of IWE; in\\nfact, the above argument supposes that it is unreliable. Two\\nquestions arise, however. First, why should we accept the additional\\ncondition? Second, do we really have no reason to doubt the\\nreliability of abduction? Certainly some of the abductive\\ninferences we make lead us to accept falsehoods. How many\\nfalsehoods may we accept on the basis of abduction before we can\\nlegitimately begin to distrust this rule? No clear answers have been\\ngiven to these questions. \\nBe this as it may, even if rule-circularity is neither vicious nor\\notherwise problematic, one may still wonder how Boyd’s argument\\nis to convert a critic of abduction, given that it relies on\\nabduction. But Psillos makes it clear that the point of philosophical\\nargumentation is not always, and in any case need not be, to convince\\nan opponent of one’s position. Sometimes the point is, more\\nmodestly, to assure or reassure oneself that the position one\\nendorses, or is tempted to endorse, is correct. In the case at hand,\\nwe need not think of Boyd’s argument as an attempt to convince\\nthe opponent of abduction of its reliability. Rather, it may be\\nthought of as justifying the rule from within the perspective of\\nsomeone who is already sympathetic towards abduction; see Psillos 1999\\n(89). \\nThere have also been attempts to argue for abduction in a more\\nstraightforward fashion, to wit, via enumerative induction. The common\\nidea of these attempts is that every newly recorded successful\\napplication of abduction—like the discovery of Neptune, whose\\nexistence had been postulated on explanatory grounds (see Section\\n1.2)—adds further support to the hypothesis that abduction is a\\nreliable rule of inference, in the way in which every newly observed\\nblack raven adds some support to the hypothesis that all ravens are\\nblack. Because it does not involve abductive reasoning, this type of\\nargument is more likely to also appeal to disbelievers in abduction.\\nSee Harré 1986, 1988, Bird 1998 (160), Kitcher 2001, and Douven\\n2002 for suggestions along these lines.'}}]"
      ]
     },
     "execution_count": 7,
     "metadata": {},
     "output_type": "execute_result"
    }
   ],
   "source": [
    "index_name = \"philosophy\"\n",
    "knn_res = es_client.search(index=index_name, knn=knn_query(question), source=[\"chunk_id\", \"article_title\", \"content\"])\n",
    "knn_res[\"hits\"][\"hits\"]"
   ]
  },
  {
   "cell_type": "markdown",
   "id": "25cdf001-d139-433a-acf3-4e7317a38d4e",
   "metadata": {},
   "source": [
    "`TODO`chuncking via paragraphs переносит важную информацию с ответом на вопрос в следующий параграф "
   ]
  },
  {
   "cell_type": "markdown",
   "id": "d46c2e63-50f8-4347-a7f3-d88fa0d20750",
   "metadata": {},
   "source": [
    "### Keyword search with Semantic Search (Hybrid/Advanced Search)"
   ]
  },
  {
   "cell_type": "code",
   "execution_count": 8,
   "id": "09e58f71-69c8-471d-831f-d46ccae52b94",
   "metadata": {},
   "outputs": [],
   "source": [
    "def elastic_search_hybrid1(question):\n",
    "    question_vectorized = model.encode(question)\n",
    "    index_name = 'philosophy'\n",
    "    hybryd_response1 = es_client.search(\n",
    "        index=index_name,\n",
    "        query={\n",
    "            \"match\": {\"article_title\": question},\n",
    "        },\n",
    "        knn= {\n",
    "            \"field\": \"vector_sectionPath_content\",\n",
    "            \"query_vector\": question_vectorized,\n",
    "            \"k\": 7,\n",
    "            \"num_candidates\": 10000, \n",
    "        },\n",
    "        size=7,\n",
    "        source=[\"chunk_id\", \"article_title\", \"content\"]\n",
    "    )\n",
    "    return hybryd_response1"
   ]
  },
  {
   "cell_type": "code",
   "execution_count": 9,
   "id": "0376ae98-c049-41c4-bc25-60b603d8d59e",
   "metadata": {},
   "outputs": [
    {
     "data": {
      "text/plain": [
       "'\\nIn textbooks on epistemology or the philosophy of science, one often\\nencounters something like the following as a formulation of\\nabduction:'"
      ]
     },
     "execution_count": 9,
     "metadata": {},
     "output_type": "execute_result"
    }
   ],
   "source": [
    "response = elastic_search_hybrid1(question)\n",
    "response[\"hits\"][\"hits\"][0]['_source']['content']"
   ]
  },
  {
   "cell_type": "code",
   "execution_count": 17,
   "id": "6d23f29a-0561-4b2f-878a-563893e8feeb",
   "metadata": {
    "jp-MarkdownHeadingCollapsed": true
   },
   "outputs": [],
   "source": [
    "def elastic_search_hybrid2(question):\n",
    "    try:\n",
    "        hybrid_response2 = es_client.search(\n",
    "            index=index_name,\n",
    "            body={\n",
    "                \"query\": {\n",
    "                    \"bool\": {\n",
    "                        \"must\": [{\"knn\": knn_query(question)}],\n",
    "                        \"should\": [\n",
    "                            {\"match\": {\"article_title\": question}},\n",
    "                            {\"match\": {\"concepts\": question}},\n",
    "                            {\"match\": {\"philosophers\": question}}\n",
    "                        ],\n",
    "                        \"minimum_should_match\": 1\n",
    "                    }\n",
    "                },\n",
    "                \"size\": 7,\n",
    "                \"_source\": [\"chunk_id\", \"article_title\", \"concepts\", \"philosophers\", \"content\"]\n",
    "            }\n",
    "        )\n",
    "        return hybrid_response2  \n",
    "\n",
    "    except Exception as e:\n",
    "        print(f\"Error during Elasticsearch query: {e}\")\n",
    "        return None  "
   ]
  },
  {
   "cell_type": "code",
   "execution_count": 18,
   "id": "327a5267-2a7d-4d78-867c-fd0ef74a8c6a",
   "metadata": {},
   "outputs": [
    {
     "name": "stdout",
     "output_type": "stream",
     "text": [
      "No results found or error in response: {'took': 2, 'timed_out': False, '_shards': {'total': 1, 'successful': 1, 'skipped': 0, 'failed': 0}, 'hits': {'total': {'value': 0, 'relation': 'eq'}, 'max_score': None, 'hits': []}}\n"
     ]
    }
   ],
   "source": [
    "response = elastic_search_hybrid2(question)\n",
    "\n",
    "if response and \"hits\" in response and response[\"hits\"][\"hits\"]:\n",
    "    content = response[\"hits\"][\"hits\"][0]['_source']['content']\n",
    "    print(content) \n",
    "else:\n",
    "    print(\"No results found or error in response:\", response)"
   ]
  },
  {
   "cell_type": "markdown",
   "id": "fe61a049-8024-4cfb-b97a-befd59bce1d7",
   "metadata": {},
   "source": [
    "`TODO` combine paragraphs that ends with \":\" into one"
   ]
  },
  {
   "cell_type": "code",
   "execution_count": null,
   "id": "24e41afc-8c0e-4caf-923a-f0ffe8488d9c",
   "metadata": {},
   "outputs": [],
   "source": []
  },
  {
   "cell_type": "markdown",
   "id": "54069fb4-117f-4b18-90a4-cc1c848605bf",
   "metadata": {},
   "source": [
    "# Retrieval Evaluation"
   ]
  },
  {
   "cell_type": "markdown",
   "id": "778c0f88-90e2-4084-8510-41d15f272daf",
   "metadata": {},
   "source": [
    "For evaluation I use ground truth dataset: https://huggingface.co/datasets/ruggsea/stanford-encyclopedia-of-philosophy_instruct\n",
    "\n",
    "**Description**\n",
    "This is a semi-synthetic instruct dataset meant for supervised finetuning of a large language model for the task of answering philosophical questions in a formal manner. The dataset is based on the Stanford Encyclopedia of Philosophy (SEP). Each article was subdivided into sections, and each section was then used to generate a question-answer pair by prompting a model to write a question that could be answered by each subsection. Subsection with a too high (>2000) or too low (<100) token count were discarded. The dataset contains 12260 examples in total.\n",
    "\n",
    "**Format**\n",
    "The dataset has two columns: question and answer. The question column contains the question generated by the model, and the answer column contains the text of the subsection that the question was generated from."
   ]
  },
  {
   "cell_type": "markdown",
   "id": "800f78d6-9128-47b0-a8d2-828f399d372d",
   "metadata": {},
   "source": [
    "### Evaluate query 1"
   ]
  },
  {
   "cell_type": "code",
   "execution_count": 6,
   "id": "311e2716-ade3-4e2d-a274-565c87498518",
   "metadata": {},
   "outputs": [],
   "source": [
    "import pandas as pd\n",
    "import numpy as np\n",
    "from sentence_transformers import SentenceTransformer\n",
    "from elasticsearch import Elasticsearch\n",
    "from tqdm.notebook import tqdm\n",
    "from datasets import load_dataset\n",
    "import matplotlib.pyplot as plt\n",
    "\n",
    "index_name = \"philosophy\"\n",
    "\n",
    "# Load and prepare the groud truth dataset\n",
    "def prepare_evaluation_dataset(n):\n",
    "    dataset = load_dataset(\"ruggsea/stanford-encyclopedia-of-philosophy_instruct\", split=\"train\")\n",
    "    \n",
    "    # Create ground truth pairs\n",
    "    eval_pairs = []\n",
    "    for item in dataset:\n",
    "        question = item['question']\n",
    "        answer = item['answer']\n",
    "        \n",
    "        # Extract relevant chunks from the answer\n",
    "        # In a real scenario, you might need more sophisticated chunking\n",
    "        chunks = [answer[i:i+500] for i in range(0, len(answer), 500)]\n",
    "        \n",
    "        eval_pairs.append({\n",
    "            'question': question,\n",
    "            'relevant_chunks': chunks\n",
    "        })\n",
    "    \n",
    "    return eval_pairs[:n]  # Limit to n for faster evaluation"
   ]
  },
  {
   "cell_type": "code",
   "execution_count": 11,
   "id": "9ad63628-26f0-48f5-ba20-f97baaab027b",
   "metadata": {},
   "outputs": [
    {
     "data": {
      "application/vnd.jupyter.widget-view+json": {
       "model_id": "d639cfe777164f67a907475b195a1845",
       "version_major": 2,
       "version_minor": 0
      },
      "text/plain": [
       "Evaluating:   0%|          | 0/500 [00:00<?, ?it/s]"
      ]
     },
     "metadata": {},
     "output_type": "display_data"
    },
    {
     "data": {
      "image/png": "[encoded data removed]",
      "text/plain": [
       "<Figure size 1200x500 with 2 Axes>"
      ]
     },
     "metadata": {},
     "output_type": "display_data"
    },
    {
     "name": "stdout",
     "output_type": "stream",
     "text": [
      "Mean MRR: 0.0170\n",
      "Mean Hit Rate @ 5: 0.0280\n"
     ]
    }
   ],
   "source": [
    "def calculate_mrr(retrieved_chunks, relevant_chunks):\n",
    "    for i, chunk in enumerate(retrieved_chunks, 1):\n",
    "        if any(relevant in chunk['content'] for relevant in relevant_chunks):\n",
    "            return 1 / i\n",
    "    return 0\n",
    "\n",
    "def calculate_hit_rate(retrieved_chunks, relevant_chunks, k=7):\n",
    "    for chunk in retrieved_chunks[:k]:\n",
    "        if any(relevant in chunk['content'] for relevant in relevant_chunks):\n",
    "            return 1\n",
    "    return 0\n",
    "\n",
    "def evaluate_retrieval():\n",
    "    eval_pairs = prepare_evaluation_dataset(500) # Limit to 500 for faster evaluation\n",
    "    mrr_scores = []\n",
    "    hit_rates = []\n",
    "    \n",
    "    for pair in tqdm(eval_pairs, desc=\"Evaluating\"):\n",
    "        results = elastic_search_hybrid1(pair['question'])\n",
    "        retrieved_chunks = [hit['_source'] for hit in results['hits']['hits']]\n",
    "        \n",
    "        mrr = calculate_mrr(retrieved_chunks, pair['relevant_chunks'])\n",
    "        hit_rate = calculate_hit_rate(retrieved_chunks, pair['relevant_chunks'])\n",
    "        \n",
    "        mrr_scores.append(mrr)\n",
    "        hit_rates.append(hit_rate)\n",
    "    \n",
    "    return {\n",
    "        'mean_mrr': np.mean(mrr_scores),\n",
    "        'mean_hit_rate': np.mean(hit_rates),\n",
    "        'mrr_scores': mrr_scores,\n",
    "        'hit_rates': hit_rates\n",
    "    }\n",
    "\n",
    "# Run evaluation\n",
    "results = evaluate_retrieval()\n",
    "\n",
    "# Visualize results\n",
    "plt.figure(figsize=(12, 5))\n",
    "\n",
    "plt.subplot(1, 2, 1)\n",
    "plt.hist(results['mrr_scores'], bins=10)\n",
    "plt.title('Distribution of MRR Scores')\n",
    "plt.xlabel('MRR')\n",
    "plt.ylabel('Count')\n",
    "\n",
    "plt.subplot(1, 2, 2)\n",
    "plt.hist(results['hit_rates'], bins=2)\n",
    "plt.title('Distribution of Hit Rates')\n",
    "plt.xlabel('Hit Rate')\n",
    "plt.ylabel('Count')\n",
    "\n",
    "plt.tight_layout()\n",
    "plt.show()\n",
    "\n",
    "print(f\"Mean MRR: {results['mean_mrr']:.4f}\")\n",
    "print(f\"Mean Hit Rate @ 5: {results['mean_hit_rate']:.4f}\")"
   ]
  },
  {
   "cell_type": "markdown",
   "id": "d72cf59c-0f5b-4cc7-b130-bf55a4e80337",
   "metadata": {},
   "source": [
    "I think such a low result may be related not only to the quality of the answers, but above all to the fact that we did not index the entire dataset (many questions from the dataset cannot be answered by definition).\n",
    "I also tested this by vectorizing more chunks of the dataset, which increased the mrr by 0.6%."
   ]
  },
  {
   "cell_type": "markdown",
   "id": "5a82f72d-af3c-45ae-b10d-a1559102ac62",
   "metadata": {},
   "source": [
    "### Evaluate query 2"
   ]
  },
  {
   "cell_type": "code",
   "execution_count": 36,
   "id": "a9ad3fd8-2ecc-44f8-8117-1e1f662a4ae5",
   "metadata": {},
   "outputs": [],
   "source": [
    "def evaluate_retrieval2():\n",
    "    eval_pairs = prepare_evaluation_dataset(500)\n",
    "    mrr_scores = []\n",
    "    hit_rates = []\n",
    "    \n",
    "    for pair in tqdm(eval_pairs, desc=\"Evaluating\"):\n",
    "        results = elastic_search_hybrid2(pair['question'])\n",
    "        retrieved_chunks = [hit['_source'] for hit in results['hits']['hits']]\n",
    "        \n",
    "        mrr = calculate_mrr(retrieved_chunks, pair['relevant_chunks'])\n",
    "        hit_rate = calculate_hit_rate(retrieved_chunks, pair['relevant_chunks'])\n",
    "        \n",
    "        mrr_scores.append(mrr)\n",
    "        hit_rates.append(hit_rate)\n",
    "    \n",
    "    return {\n",
    "        'mean_mrr': np.mean(mrr_scores),\n",
    "        'mean_hit_rate': np.mean(hit_rates),\n",
    "        'mrr_scores': mrr_scores,\n",
    "        'hit_rates': hit_rates\n",
    "    }"
   ]
  },
  {
   "cell_type": "code",
   "execution_count": 37,
   "id": "545b71fb-c19a-4b0a-a58e-750a8cf708aa",
   "metadata": {},
   "outputs": [
    {
     "data": {
      "application/vnd.jupyter.widget-view+json": {
       "model_id": "55b22f27dacd4448974687fbae3ff87e",
       "version_major": 2,
       "version_minor": 0
      },
      "text/plain": [
       "Evaluating:   0%|          | 0/500 [00:00<?, ?it/s]"
      ]
     },
     "metadata": {},
     "output_type": "display_data"
    },
    {
     "data": {
      "image/png": "[encoded data removed]",
      "text/plain": [
       "<Figure size 1200x500 with 2 Axes>"
      ]
     },
     "metadata": {},
     "output_type": "display_data"
    },
    {
     "name": "stdout",
     "output_type": "stream",
     "text": [
      "Mean MRR: 0.0266\n",
      "Mean Hit Rate @ 5: 0.0360\n"
     ]
    }
   ],
   "source": [
    "# Run evaluation\n",
    "results = evaluate_retrieval2()\n",
    "\n",
    "# Visualize results\n",
    "plt.figure(figsize=(12, 5))\n",
    "\n",
    "plt.subplot(1, 2, 1)\n",
    "plt.hist(results['mrr_scores'], bins=10)\n",
    "plt.title('Distribution of MRR Scores')\n",
    "plt.xlabel('MRR')\n",
    "plt.ylabel('Count')\n",
    "\n",
    "plt.subplot(1, 2, 2)\n",
    "plt.hist(results['hit_rates'], bins=2)\n",
    "plt.title('Distribution of Hit Rates')\n",
    "plt.xlabel('Hit Rate')\n",
    "plt.ylabel('Count')\n",
    "\n",
    "plt.tight_layout()\n",
    "plt.show()\n",
    "\n",
    "print(f\"Mean MRR: {results['mean_mrr']:.4f}\")\n",
    "print(f\"Mean Hit Rate @ 5: {results['mean_hit_rate']:.4f}\")"
   ]
  },
  {
   "cell_type": "markdown",
   "id": "35433eff-2887-4cd7-95d2-68043076d306",
   "metadata": {},
   "source": [
    "This query definitely faster, MRR and MHR are better.\n",
    "`TODO:` change embedding model to smaller dims to speed up the application.."
   ]
  },
  {
   "cell_type": "markdown",
   "id": "a613eaa8-c7d1-49ff-b405-a6e49ee4c9a3",
   "metadata": {},
   "source": [
    "# LLM using (Groq), RAG flow\n",
    "\n",
    "Register in Groq, get API_KEY, set it to .env file:\n",
    "\n",
    "```\n",
    "GROQ_API_KEY=<your-api-key-here>\n",
    "```"
   ]
  },
  {
   "cell_type": "code",
   "execution_count": 26,
   "id": "c1195e0c-4da3-4181-b85a-27f6df4e3f57",
   "metadata": {},
   "outputs": [],
   "source": [
    "from groq import Groq\n",
    "\n",
    "GROQ_API_KEY=\"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\"#os.getenv('GROQ_API_KEY')\n",
    "\n",
    "client = Groq(\n",
    "    api_key=GROQ_API_KEY,\n",
    ")"
   ]
  },
  {
   "cell_type": "markdown",
   "id": "32f014f9-0adf-4a64-a004-cc08b1c022f3",
   "metadata": {},
   "source": [
    "### check if context is too high for this model (8192 tokens), then summarize or trim"
   ]
  },
  {
   "cell_type": "code",
   "execution_count": 21,
   "id": "9144823b-934f-4836-ac28-4cf03e5f559f",
   "metadata": {},
   "outputs": [
    {
     "data": {
      "application/vnd.jupyter.widget-view+json": {
       "model_id": "27e3f05ca4374725a0b0dfad280a9559",
       "version_major": 2,
       "version_minor": 0
      },
      "text/plain": [
       "tokenizer_config.json:   0%|          | 0.00/26.0 [00:00<?, ?B/s]"
      ]
     },
     "metadata": {},
     "output_type": "display_data"
    },
    {
     "data": {
      "application/vnd.jupyter.widget-view+json": {
       "model_id": "71a42f3994554ba2b003610017a8e4db",
       "version_major": 2,
       "version_minor": 0
      },
      "text/plain": [
       "vocab.json:   0%|          | 0.00/1.04M [00:00<?, ?B/s]"
      ]
     },
     "metadata": {},
     "output_type": "display_data"
    },
    {
     "data": {
      "application/vnd.jupyter.widget-view+json": {
       "model_id": "8fc0abc320cc48bd9082890f49968ec0",
       "version_major": 2,
       "version_minor": 0
      },
      "text/plain": [
       "merges.txt:   0%|          | 0.00/456k [00:00<?, ?B/s]"
      ]
     },
     "metadata": {},
     "output_type": "display_data"
    },
    {
     "data": {
      "application/vnd.jupyter.widget-view+json": {
       "model_id": "031d73fc631749e787646edc44f42554",
       "version_major": 2,
       "version_minor": 0
      },
      "text/plain": [
       "tokenizer.json:   0%|          | 0.00/1.36M [00:00<?, ?B/s]"
      ]
     },
     "metadata": {},
     "output_type": "display_data"
    },
    {
     "data": {
      "application/vnd.jupyter.widget-view+json": {
       "model_id": "32fc9202eae24d35a013c8e3a169c71c",
       "version_major": 2,
       "version_minor": 0
      },
      "text/plain": [
       "config.json:   0%|          | 0.00/665 [00:00<?, ?B/s]"
      ]
     },
     "metadata": {},
     "output_type": "display_data"
    }
   ],
   "source": [
    "from transformers import GPT2Tokenizer\n",
    "tokenizer = GPT2Tokenizer.from_pretrained(\"gpt2\")\n",
    "\n",
    "def is_tokens_exceed_the_limit(text, max_tokens=8192):\n",
    "    tokens = tokenizer(text)\n",
    "    token_count = len(tokens['input_ids'])\n",
    "\n",
    "    if token_count > max_tokens:\n",
    "        print(f\"Token count ({token_count}) exceeds the {max_tokens}-token limit! Trimming the text.\")\n",
    "        trimmed_text = tokenizer.decode(tokens['input_ids'][:max_tokens], skip_special_tokens=True)\n",
    "        return True, trimmed_text  \n",
    "    else:\n",
    "        print(f\"Token count ({token_count}) is within the {max_tokens}-token limit.\")\n",
    "        return False, text "
   ]
  },
  {
   "cell_type": "markdown",
   "id": "b046747e-588d-49a2-8079-a7197f6f5934",
   "metadata": {},
   "source": [
    "`todo` this summarizer is very slow (i checked). i will not use it \n",
    "\n",
    "```python\n",
    "import torch\n",
    "from transformers import AutoTokenizer, AutoModelForSeq2SeqLM, pipeline\n",
    "\n",
    "tokenizer = AutoTokenizer.from_pretrained(\"google/long-t5-tglobal-base\")\n",
    "summarize_model = AutoModelForSeq2SeqLM.from_pretrained(\"google/long-t5-tglobal-base\")\n",
    "\n",
    "def summarize_text(text):\n",
    "    summarizer = pipeline(\"summarization\", model=summarize_model, tokenizer=tokenizer, device=0 if torch.cuda.is_available() else -1)\n",
    "    chunks = split_text(text, tokenizer, max_tokens=4096)\n",
    "\n",
    "    summaries = []\n",
    "    for chunk in chunks:\n",
    "        summary = summarizer(chunk, max_length=200, min_length=50, do_sample=False)\n",
    "        summaries.append(summary[0]['summary_text'])\n",
    "\n",
    "    return ' '.join(summaries)\n",
    "\n",
    "def split_text(text, tokenizer, max_tokens=4096):\n",
    "    tokens = tokenizer(text, return_tensors='pt', truncation=False)['input_ids'][0]\n",
    "    chunks = []\n",
    "\n",
    "    # Разбиваем на чанки по max_tokens\n",
    "    for i in range(0, len(tokens), max_tokens):\n",
    "        chunk_tokens = tokens[i:i + max_tokens]\n",
    "        chunk_text = tokenizer.decode(chunk_tokens, skip_special_tokens=True)\n",
    "        chunks.append(chunk_text)\n",
    "\n",
    "    return chunks\n",
    "```"
   ]
  },
  {
   "cell_type": "code",
   "execution_count": 12,
   "id": "5dd92c22-f931-4fb1-a87b-5623e11d4d32",
   "metadata": {},
   "outputs": [],
   "source": [
    "def build_prompt(query, search_results):\n",
    "    prompt_template = \"\"\"\n",
    "You are an intellectual assistant specializing in philosophy. Your task is to help users find and interpret philosophical concepts and ideas using information from the provided texts. \n",
    "\n",
    "Answer the QUESTION based on the CONTEXT from the philosophy database.\n",
    "\n",
    "While give a response, be consider:\n",
    "* Be based only(!) on CONTEXT, if context isn't EMPTY. Else tell that you have no answer.\n",
    "* Provide a response that is understandable and recreates the historical, intellectual, or social context in which the concept was created if the question concerns a concept. \n",
    "* If the question concerns a thinker, describe their general teaching, core ideas, and influence on philosophy.\n",
    "* Give an example if you have some.\n",
    "\n",
    "QUESTION: {question}\n",
    "\n",
    "CONTEXT: \n",
    "{context}\n",
    "\"\"\".strip()\n",
    "    \n",
    "    context = \"\"\n",
    "    for hit in search_results['hits']['hits']:\n",
    "        context += f\"{hit['_source']['content']}\\n\"\n",
    "        \n",
    "    # check if context is too high for this model (8192 tokens), then summarize\n",
    "    exceeds, processed_text = is_tokens_exceed_the_limit(context)\n",
    "    if exceeds:\n",
    "        context = processed_text\n",
    "    prompt = prompt_template.format(question=query, context=context if context else \"EMPTY\").strip()\n",
    "   # print(prompt)\n",
    "    return prompt\n",
    "\n",
    "def llm(prompt):\n",
    "    response = client.chat.completions.create(\n",
    "    messages=[{\"role\": \"user\", \"content\": prompt,}], model=\"llama3-8b-8192\",)\n",
    "    return response.choices[0].message.content\n",
    "\n",
    "def rag(query):\n",
    "    search_results = elastic_search_hybrid2(query)\n",
    "    prompt = build_prompt(query, search_results)\n",
    "    answer = llm(prompt)\n",
    "    return answer"
   ]
  },
  {
   "cell_type": "markdown",
   "id": "11430f11-595a-4f85-a39a-af6d1f8e4db0",
   "metadata": {},
   "source": [
    "# Ask question here:"
   ]
  },
  {
   "cell_type": "code",
   "execution_count": 40,
   "id": "2bb22a69-33a8-42f1-9492-d501c440e3d7",
   "metadata": {
    "scrolled": true
   },
   "outputs": [
    {
     "name": "stdout",
     "output_type": "stream",
     "text": [
      "Token count (4983) is within the 8192-token limit.\n",
      "You are an intellectual assistant specializing in philosophy. Your task is to help users find and interpret philosophical concepts and ideas using information from the provided texts. \n",
      "\n",
      "Answer the QUESTION based on the CONTEXT from the philosophy database.\n",
      "\n",
      "While give a response, be consider:\n",
      "* Be based only(!) on CONTEXT, if context isn't EMPTY. Else tell that you have no answer.\n",
      "* Provide a response that is understandable and recreates the historical, intellectual, or social context in which the concept was created if the question concerns a concept. \n",
      "* If the question concerns a thinker, describe their general teaching, core ideas, and influence on philosophy.\n",
      "* Give an example if you have some.\n",
      "\n",
      "QUESTION: tell me what is abduction?\n",
      "\n",
      "CONTEXT: \n",
      "\n",
      "In textbooks on epistemology or the philosophy of science, one often\n",
      "encounters something like the following as a formulation of\n",
      "abduction:\n",
      "\n",
      "You happen to know that Tim and Harry have recently had a terrible row\n",
      "that ended their friendship. Now someone tells you that she just saw\n",
      "Tim and Harry jogging together. The best explanation for this that you\n",
      "can think of is that they made up. You conclude that they are friends\n",
      "again.\n",
      "\n",
      "Needless to say, ABD2 needs supplementing by a criterion for the\n",
      "satisfactoriness of explanations, or their being good enough, which,\n",
      "however, we are still lacking.\n",
      "\n",
      "Clearly, ABD3 requires an account of closeness to the truth, but many\n",
      "such accounts are on offer today (see, e.g., Niiniluoto 1998).\n",
      "\n",
      "The type of inference exemplified in the cases described at the\n",
      "beginning of this entry will strike most as entirely familiar.\n",
      "Philosophers as well as psychologists tend to agree that abduction is\n",
      "frequently employed in everyday reasoning. Sometimes our reliance on\n",
      "abductive reasoning is quite obvious and explicit. But in some daily\n",
      "practices, it may be so routine and automatic that it easily goes\n",
      "unnoticed. A case in point may be our trust in other people’s\n",
      "testimony, which has been said to rest on abductive reasoning; see\n",
      "Harman 1965, Adler 1994, Fricker 1994, and Lipton 1998 for defenses of\n",
      "this claim. For instance, according to Jonathan Adler (1994, 274f),\n",
      "“[t]he best explanation for why the informant asserts that\n",
      "P is normally that … he believes it for duly responsible\n",
      "reasons and … he intends that I shall believe it too,”\n",
      "which is why we are normally justified in trusting the\n",
      "informant’s testimony. This may well be correct, even though in\n",
      "coming to trust a person’s testimony one does not normally seem\n",
      "to be aware of any abductive reasoning going on in one’s mind.\n",
      "Similar remarks may apply to what some hold to be a further, possibly\n",
      "even more fundamental, role of abduction in linguistic practice, to\n",
      "wit, its role in determining what a speaker means by an utterance.\n",
      "Specifically, it has been argued that decoding utterances is a matter\n",
      "of inferring the best explanation of why someone said what he or she\n",
      "said in the context in which the utterance was made. Even more\n",
      "specifically, authors working in the field of pragmatics have\n",
      "suggested that hearers invoke the Gricean maxims of conversation to\n",
      "help them work out the best explanation of a speaker’s utterance\n",
      "whenever the semantic content of the utterance is insufficiently\n",
      "informative for the purposes of the conversation, or is too\n",
      "informative, or off-topic, or implausible, or otherwise odd or\n",
      "inappropriate; see, for instance, Bach and Harnish 1979 (92f), Dascal\n",
      "1979 (167), and Hobbs 2004. As in cases of reliance on speaker\n",
      "testimony, the requisite abductive reasoning would normally seem to\n",
      "take place at a subconscious level. \n",
      "Abductive reasoning is not limited to everyday contexts. Quite the\n",
      "contrary: philosophers of science have argued that abduction is a\n",
      "cornerstone of scientific methodology; see, for instance, Boyd 1981,\n",
      "1984, Harré 1986, 1988, Lipton 1991, 2004, and Psillos 1999.\n",
      "According to Timothy Williamson (2007), “[t]he abductive\n",
      "methodology is the best science provides” and Ernan McMullin\n",
      "(1992) even goes so far to call abduction “the inference that\n",
      "makes science.” To illustrate the use of abduction in science,\n",
      "we consider two examples. \n",
      "At the beginning of the nineteenth century, it was discovered that the\n",
      "orbit of Uranus, one of the seven planets known at the time, departed\n",
      "from the orbit as predicted on the basis of Isaac Newton’s\n",
      "theory of universal gravitation and the auxiliary assumption that\n",
      "there were no further planets in the solar system. One possible\n",
      "explanation was, of course, that Newton’s theory is false. Given\n",
      "its great empirical successes for (then) more than two centuries, that\n",
      "did not appear to be a very good explanation. Two astronomers, John\n",
      "Couch Adams and Urbain Leverrier, instead suggested (independently of\n",
      "each other but almost simultaneously) that there was an eighth, as yet\n",
      "undiscovered planet in the solar system; that, they thought, provided\n",
      "the best explanation of Uranus’ deviating orbit. Not much later,\n",
      "this planet, which is now known as “Neptune,” was\n",
      "discovered. \n",
      "The second example concerns what is now commonly regarded to have been\n",
      "the discovery of the electron by the English physicist Joseph John\n",
      "Thomson. Thomson had conducted experiments on cathode rays in order to\n",
      "determine whether they are streams of charged particles. He concluded\n",
      "that they are indeed, reasoning as follows: \n",
      "\n",
      "\n",
      "As the cathode rays carry a charge of negative electricity, are\n",
      "deflected by an electrostatic force as if they were negatively\n",
      "electrified, and are acted on by a magnetic force in just the way in\n",
      "which this force would act on a negatively electrified body moving\n",
      "along the path of these rays, I can see no escape from the conclusion\n",
      "that they are charges of negative electricity carried by particles of\n",
      "matter. (Thomson, cited in Achinstein 2001, 17)\n",
      " \n",
      "The conclusion that cathode rays consist of negatively charged\n",
      "particles does not follow logically from the reported experimental\n",
      "results, nor could Thomson draw on any relevant statistical data. That\n",
      "nevertheless he could “see no escape from the conclusion”\n",
      "is, we may safely assume, because the conclusion is the best—in\n",
      "this case presumably even the only plausible—explanation of his\n",
      "results that he could think of. \n",
      "Many other examples of scientific uses of abduction have been\n",
      "discussed in the literature; see, for instance, Harré 1986,\n",
      "1988 and Lipton 1991, 2004. Abduction is also said to be the\n",
      "predominant mode of reasoning in medical diagnosis: physicians tend to\n",
      "go for the hypothesis that best explains the patient’s symptoms\n",
      "(see Josephson and Josephson (eds.) 1994, 9–12; see also\n",
      "Dragulinescu 2016 on abductive reasoning in the context of\n",
      "medicine). \n",
      "Last but not least, abduction plays a central role in some important\n",
      "philosophical debates. See Shalkowski 2010 on the place of abduction\n",
      "in metaphysics (also Bigelow 2010), Krzyżanowska, Wenmackers, and\n",
      "Douven 2014 and Douven 2016a for a possible role of\n",
      "abduction in the semantics of conditionals, and Williamson\n",
      "2017 for an application of abduction in the philosophy of logic.\n",
      "Arguably, however, abduction plays its most notable philosophical role\n",
      "in epistemology and in the philosophy of science, where it is\n",
      "frequently invoked in objections to so-called underdetermination\n",
      "arguments. Underdetermination arguments generally start from the\n",
      "premise that a number of given hypotheses are empirically equivalent,\n",
      "which their authors take to mean that the evidence—indeed, any\n",
      "evidence we might ever come to possess—is unable to favor one of\n",
      "them over the others. From this, we are supposed to conclude that one\n",
      "can never be warranted in believing any particular one of the\n",
      "hypotheses. (This is rough, but it will do for present purposes; see\n",
      "Douven 2008 and Stanford 2009, for more detailed accounts of\n",
      "underdetermination arguments.) A famous instance of this type of\n",
      "argument is the Cartesian argument for global skepticism, according to\n",
      "which the hypothesis that reality is more or less the way we\n",
      "customarily deem it to be is empirically equivalent to a variety of\n",
      "so-called skeptical hypotheses (such as that we are beguiled by an\n",
      "evil demon, or that we are brains in a vat, connected to a\n",
      "supercomputer; see, e.g., Folina 2016). Similar arguments have been\n",
      "given in support of scientific antirealism, according to which it will\n",
      "never be warranted for us to choose between empirically equivalent\n",
      "rivals concerning what underlies the observable part of reality (van\n",
      "Fraassen 1980). \n",
      "Responses to these arguments typically point to the fact that the\n",
      "notion of empirical equivalence at play unduly neglects explanatory\n",
      "considerations, for instance, by defining the notion strictly in terms\n",
      "of hypotheses’ making the same predictions. Those responding\n",
      "then argue that even if some hypotheses make exactly the same\n",
      "predictions, one of them may still be a better explanation of the\n",
      "phenomena predicted. Thus, if explanatory considerations have a role\n",
      "in determining which inferences we are licensed to make—as\n",
      "according to defenders of abduction they have—then we might\n",
      "still be warranted in believing in the truth (or probable truth, or\n",
      "some such, depending—as will be seen below—on the version\n",
      "of abduction one assumes) of one of a number of hypotheses that all\n",
      "make the same predictions. Following Bertrand Russell (1912, Ch. 2),\n",
      "many epistemologists have invoked abduction in arguing against\n",
      "Cartesian skepticism, their key claim being that even though, by\n",
      "construction, the skeptical hypotheses make the same predictions as\n",
      "the hypothesis that reality is more or less the way we ordinarily take\n",
      "it to be, they are not equally good explanations of what they predict;\n",
      "in particular, the skeptical hypotheses have been said to be\n",
      "considerably less simple than the “ordinary world”\n",
      "hypothesis. See, among many others, Harman 1973 (Chs. 8 and 11),\n",
      "Goldman 1988 (205), Moser 1989 (161), and Vogel 1990, 2005; see\n",
      "Pargetter 1984 for an abductive response specifically to skepticism\n",
      "regarding other minds. Similarly, philosophers of science have argued\n",
      "that we are warranted to believe in Special Relativity Theory as\n",
      "opposed to Lorentz’s version of the æther theory. For even\n",
      "though these theories make the same predictions, the former is\n",
      "explanatorily superior to the latter. (Most arguments that have been\n",
      "given for this claim come down to the contention that Special\n",
      "Relativity Theory is ontologically more parsimonious than its\n",
      "competitor, which postulates the existence of an æther. See\n",
      "Janssen 2002 for an excellent discussion of the various reasons\n",
      "philosophers of science have adduced for preferring Einstein’s\n",
      "theory to Lorentz’s.)\n",
      "\n",
      "We have already encountered the so-called argument of the bad lot,\n",
      "which, we saw, is valid as a criticism of ABD1 but powerless against\n",
      "various (what we called) congruous rules of abduction. We here\n",
      "consider two objections that are meant to be more general. The first\n",
      "even purports to challenge the core idea underlying abduction; the\n",
      "second is not quite as general, but it is still meant to undermine a\n",
      "broad class of candidate explications of abduction. Both objections\n",
      "are due to Bas van Fraassen. \n",
      "The first objection has as a premise that it is part of the meaning of\n",
      "“explanation” that if one theory is more explanatory than\n",
      "another, the former must be more informative than the latter (see,\n",
      "e.g., van Fraassen 1983, Sect. 2). The alleged problem then is that it\n",
      "is “an elementary logical point that a more informative theory\n",
      "cannot be more likely to be true [and thus] attempts to describe\n",
      "inductive or evidential support through features that require\n",
      "information (such as ‘Inference to the Best Explanation’)\n",
      "must either contradict themselves or equivocate” (van Fraassen\n",
      "1989, 192). The elementary logical point is supposed to be “most\n",
      "[obvious] … in the paradigm case in which one theory is an\n",
      "extension of another: clearly the extension has more ways of being\n",
      "false” (van Fraassen 1985, 280). \n",
      "It is important to note, however, that in any other kind of case than\n",
      "the “paradigm” one, the putative elementary point is not\n",
      "obvious at all. For instance, it is entirely unclear in what sense\n",
      "Special Relativity Theory “has more ways of being false”\n",
      "than Lorentz’s version of the æther theory, given that\n",
      "they make the same predictions. And yet the former is generally\n",
      "regarded as being superior, qua explanation, to the latter.\n",
      "(If van Fraassen were to object that the former is not really more\n",
      "informative than the latter, or at any rate not more informative in\n",
      "the appropriate sense—whatever that is—then we should\n",
      "certainly refuse to grant the premise that in order to be more\n",
      "explanatory a theory must be more informative.) \n",
      "The second objection, proffered in van Fraassen 1989 (Ch. 6), is\n",
      "levelled at probabilistic versions of abduction. The objection is that\n",
      "such rules must either amount to Bayes’ rule, and thus be\n",
      "redundant, or be at variance with it but then, on the grounds of\n",
      "Lewis’ dynamic Dutch book argument (as reported in Teller 1973),\n",
      "be probabilistically incoherent, meaning that they may lead one to\n",
      "assess as fair a number of bets which together ensure a financial\n",
      "loss, come what may; and, van Fraassen argues, it would be irrational\n",
      "to follow a rule that has this feature. \n",
      "However, this objection fares no better than the first. For one thing,\n",
      "as Patrick Maher (1992) and Brian Skyrms (1993) have pointed out, a\n",
      "loss in one respect may be outweighed by a benefit in another. It\n",
      "might be, for instance, that some probabilistic version of abduction\n",
      "does much better, at least in our world, than Bayes’ rule, in\n",
      "that, on average, it approaches the truth faster in the sense that it\n",
      "is faster in assigning a high probability (understood as probability\n",
      "above a certain threshold value) to the true hypothesis (see Douven\n",
      "2013, 2020, and Douven and Wenmackers 2017; see Climenhaga\n",
      "2017 for discussion). If it does, then following that rule\n",
      "instead of Bayes’ rule may have advantages which perhaps are not\n",
      "so readily expressed in terms of money yet which should arguably be\n",
      "taken into account when deciding which rule to go by. It is, in short,\n",
      "not so clear whether following a probabilistically incoherent rule\n",
      "must be irrational. \n",
      "For another thing, Douven (1999) argues that the question of whether a\n",
      "probabilistic rule is coherent is not one that can be settled\n",
      "independently of considering which other epistemic and\n",
      "decision-theoretic rules are deployed along with it; coherence should\n",
      "be understood as a property of packages of both epistemic and\n",
      "decision-theoretic rules, not of epistemic rules (such as\n",
      "probabilistic rules for belief change) in isolation. In the same\n",
      "paper, a coherent package of rules is described which includes a\n",
      "probabilistic version of abduction. (See Kvanvig 1994, Harman 1997,\n",
      "Leplin 1997, Niiniluoto 1999, and Okasha 2000, for different responses\n",
      "to van Fraassen’s critique of probabilistic versions of\n",
      "abduction.)\n",
      "\n",
      "Hardly anyone nowadays would want to subscribe to a conception of\n",
      "truth that posits a necessary connection between explanatory force and\n",
      "truth—for instance, because it stipulates explanatory\n",
      "superiority to be necessary for truth. As a result, a priori defenses\n",
      "of abduction seem out of the question. Indeed, all defenses that have\n",
      "been given so far are of an empirical nature in that they appeal to\n",
      "data that supposedly support the claim that (in some form) abduction\n",
      "is a reliable rule of inference. \n",
      "The best-known argument of this sort was developed by Richard Boyd in\n",
      "the 1980s (see Boyd 1981, 1984, 1985). It starts by underlining the\n",
      "theory-dependency of scientific methodology, which comprises methods\n",
      "for designing experiments, for assessing data, for choosing between\n",
      "rival hypotheses, and so on. For instance, in considering possible\n",
      "confounding factors from which an experimental setup has to be\n",
      "shielded, scientists draw heavily on already accepted theories. The\n",
      "argument next calls attention to the apparent reliability of this\n",
      "methodology, which, after all, has yielded, and continues to yield,\n",
      "impressively accurate theories. In particular, by relying on this\n",
      "methodology, scientists have for some time now been able to find ever\n",
      "more instrumentally adequate theories. Boyd then argues that the\n",
      "reliability of scientific methodology is best explained by assuming\n",
      "that the theories on which it relies are at least approximately true.\n",
      "From this and from the fact that these theories were mostly arrived at\n",
      "by abductive reasoning, he concludes that abduction must be a reliable\n",
      "rule of inference. \n",
      "Critics have accused this argument of being circular. Specifically, it\n",
      "has been said that the argument rests on a premise—that\n",
      "scientific methodology is informed by approximately true background\n",
      "theories—which in turn rests on an inference to the best\n",
      "explanation for its plausibility. And the reliability of this type of\n",
      "inference is precisely what is at stake. (See, for instance, Laudan\n",
      "1981 and Fine 1984.) \n",
      "To this, Stathis Psillos (1999, Ch. 4) has responded by invoking a\n",
      "distinction credited to Richard Braithwaite, to wit, the distinction\n",
      "between premise-circularity and rule-circularity. An argument is\n",
      "premise-circular if its conclusion is amongst its premises. A\n",
      "rule-circular argument, by contrast, is an argument of which the\n",
      "conclusion asserts something about an inferential rule that is used in\n",
      "the very same argument. As Psillos urges, Boyd’s argument is\n",
      "rule-circular, but not premise-circular, and rule-circular arguments,\n",
      "Psillos contends, need not be viciously circular (even though\n",
      "a premise-circular argument is always viciously circular). To be more\n",
      "precise, in his view, an argument for the reliability of a given rule\n",
      "R that essentially relies on R as an inferential\n",
      "principle is not vicious, provided that the use of R does not\n",
      "guarantee a positive conclusion about R’s reliability.\n",
      "Psillos claims that in Boyd’s argument, this proviso is met. For\n",
      "while Boyd concludes that the background theories on which scientific\n",
      "methodology relies are approximately true on the basis of an abductive\n",
      "step, the use of abduction itself does not guarantee the truth of his\n",
      "conclusion. After all, granting the use of abduction does nothing to\n",
      "ensure that the best explanation of the success of scientific\n",
      "methodology is the approximate truth of the relevant background\n",
      "theories. Thus, Psillos concludes, Boyd’s argument still\n",
      "stands. \n",
      "Even if the use of abduction in Boyd’s argument might have led\n",
      "to the conclusion that abduction is not reliable, one may\n",
      "still have worries about the argument’s being rule-circular. For\n",
      "suppose that some scientific community relied not on abduction but on\n",
      "a rule that we may dub “Inference to the Worst\n",
      "Explanation” (IWE), a rule that sanctions inferring to the\n",
      "worst explanation of the available data. We may safely assume\n",
      "that the use of this rule mostly would lead to the adoption of very\n",
      "unsuccessful theories. Nevertheless, the said community might justify\n",
      "its use of IWE by dint of the following reasoning: “Scientific\n",
      "theories tend to be hugely unsuccessful. These theories were arrived\n",
      "at by application of IWE. That IWE is a reliable rule of\n",
      "inference—that is, a rule of inference mostly leading from true\n",
      "premises to true conclusions—is surely the worst explanation of\n",
      "the fact that our theories are so unsuccessful. Hence, by application\n",
      "of IWE, we may conclude that IWE is a reliable rule of\n",
      "inference.” While this would be an utterly absurd conclusion,\n",
      "the argument leading up to it cannot be convicted of being viciously\n",
      "circular anymore than Boyd’s argument for the reliability of\n",
      "abduction can (if Psillos is right). It would appear, then, that there\n",
      "must be something else amiss with rule-circularity. \n",
      "It is fair to note that for Psillos, the fact that a rule-circular\n",
      "argument does not guarantee a positive conclusion about the rule at\n",
      "issue is not sufficient for such an argument to be valid. A further\n",
      "necessary condition is “that one should not have reason to doubt\n",
      "the reliability of the rule—that there is nothing currently\n",
      "available which can make one distrust the rule” (Psillos 1999,\n",
      "85). And there is plenty of reason to doubt the reliability of IWE; in\n",
      "fact, the above argument supposes that it is unreliable. Two\n",
      "questions arise, however. First, why should we accept the additional\n",
      "condition? Second, do we really have no reason to doubt the\n",
      "reliability of abduction? Certainly some of the abductive\n",
      "inferences we make lead us to accept falsehoods. How many\n",
      "falsehoods may we accept on the basis of abduction before we can\n",
      "legitimately begin to distrust this rule? No clear answers have been\n",
      "given to these questions. \n",
      "Be this as it may, even if rule-circularity is neither vicious nor\n",
      "otherwise problematic, one may still wonder how Boyd’s argument\n",
      "is to convert a critic of abduction, given that it relies on\n",
      "abduction. But Psillos makes it clear that the point of philosophical\n",
      "argumentation is not always, and in any case need not be, to convince\n",
      "an opponent of one’s position. Sometimes the point is, more\n",
      "modestly, to assure or reassure oneself that the position one\n",
      "endorses, or is tempted to endorse, is correct. In the case at hand,\n",
      "we need not think of Boyd’s argument as an attempt to convince\n",
      "the opponent of abduction of its reliability. Rather, it may be\n",
      "thought of as justifying the rule from within the perspective of\n",
      "someone who is already sympathetic towards abduction; see Psillos 1999\n",
      "(89). \n",
      "There have also been attempts to argue for abduction in a more\n",
      "straightforward fashion, to wit, via enumerative induction. The common\n",
      "idea of these attempts is that every newly recorded successful\n",
      "application of abduction—like the discovery of Neptune, whose\n",
      "existence had been postulated on explanatory grounds (see Section\n",
      "1.2)—adds further support to the hypothesis that abduction is a\n",
      "reliable rule of inference, in the way in which every newly observed\n",
      "black raven adds some support to the hypothesis that all ravens are\n",
      "black. Because it does not involve abductive reasoning, this type of\n",
      "argument is more likely to also appeal to disbelievers in abduction.\n",
      "See Harré 1986, 1988, Bird 1998 (160), Kitcher 2001, and Douven\n",
      "2002 for suggestions along these lines.\n"
     ]
    },
    {
     "data": {
      "text/plain": [
       "'What a delightful question! \\n\\nAbduction, in the context of epistemology and philosophy of science, refers to the process of forming an explanation or hypothesis based on incomplete or unclear evidence, but in search of the best possible explanation. It involves drawing inferences or making educated guesses from the data, often relying on background knowledge, experience, and prior assumptions. \\n\\nThe term \"abduction\" was coined by American philosopher Charles Sanders Peirce in the late 19th century. He differentiated abduction from other forms of reasoning, such as deduction (drawing logical conclusions from established premises) and induction (making general claims based on specific observations).\\n\\nIn the text you provided, abduction is discussed in the context of scientific methodology, particularly in the discovery of the planet Neptune and the concept of cathode rays. The idea is that scientists use abduction to fill in the gaps in their knowledge, making educated guesses about the underlying causes of phenomena. This process is considered essential in the scientific method, as it allows scientists to explore new ideas and hypotheses, even when the data is incomplete or unclear.\\n\\nThe text also mentions that abduction is not limited to scientific contexts; it is also used in everyday reasoning, medical diagnosis, and linguistic practices, such as understanding the meaning of an utterance.\\n\\nIn summary, abduction is a type of reasoning that involves forming hypotheses or explanations based on incomplete evidence and prior knowledge, often relying on background assumptions and experience. It is a crucial aspect of scientific methodology and is also used in everyday life.'"
      ]
     },
     "execution_count": 40,
     "metadata": {},
     "output_type": "execute_result"
    }
   ],
   "source": [
    "rag(\"tell me what is abduction?\")"
   ]
  },
  {
   "cell_type": "code",
   "execution_count": 54,
   "id": "2c90e48c-8a51-4dce-b0fe-6ec33f5c3311",
   "metadata": {
    "scrolled": true
   },
   "outputs": [
    {
     "name": "stdout",
     "output_type": "stream",
     "text": [
      "{'took': 4, 'timed_out': False, '_shards': {'total': 1, 'successful': 1, 'skipped': 0, 'failed': 0}, 'hits': {'total': {'value': 0, 'relation': 'eq'}, 'max_score': None, 'hits': []}}\n",
      "You are an intellectual assistant specializing in philosophy. Your task is to help users find and interpret philosophical concepts and ideas using information from the provided texts. \n",
      "\n",
      "Answer the QUESTION based on the CONTEXT from the philosophy database.\n",
      "\n",
      "While give a response, be consider:\n",
      "* Be based only(!) on CONTEXT, if context isn't empty.\n",
      "* Provide a response that is understandable and recreates the historical, intellectual, or social context in which the concept was created if the question concerns a concept. \n",
      "* If the question concerns a thinker, describe their general teaching, core ideas, and influence on philosophy.\n",
      "* Give an example if you have some.\n",
      "\n",
      "QUESTION: who is gilles deleuze?\n",
      "\n",
      "CONTEXT:\n"
     ]
    },
    {
     "data": {
      "text/plain": [
       "'A fascinating question! Based on the context, I\\'m assuming you\\'re asking about Gilles Deleuze, a French philosopher known for his unique and influential ideas.\\n\\nGilles Deleuze (1925-1995) was a French philosopher who primarily focused on the fields of metaphysics, epistemology, and philosophy of language. He is best known for his concept of \"becoming\" and his critique of traditional notions of identity, subjectivity, and reality.\\n\\nDeleuze\\'s philosophy can be characterized by several key concepts, including:\\n\\n1. **Becoming**: Deleuze argues that reality is in a constant state of flux, and that things are constantly changing and becoming something else. He rejects the idea of fixed essences and instead emphasizes the dynamic, relational nature of reality.\\n2. **Desire**: Deleuze sees desire as a fundamental force that drives change and becoming. He argues that desire is not something that can be satisfied, as it is constantly propelled by a sense of lack or desire for more.\\n3. **The Body Without Organs**: Deleuze, along with his collaborator Félix Guattari, conceptualized the \"Body Without Organs\" (BWO) as a non-hierarchical, non-organic entity that resists the dominant structures of society and power.\\n4. **Rhizome**: Deleuze and Guattari introduced the concept of the \"rhizome\" to describe networks of interconnected, decentralized nodes that resist centralization and hierarchy. This concept is often applied to understand complex systems, such as ecosystems and social networks.\\n\\nDeleuze\\'s influence on philosophy is immense, and his ideas have been applied to various fields, including:\\n\\n* **Postmodernism**: Deleuze\\'s critique of traditional notions of identity and reality contributed to the development of postmodern thought.\\n* **Critical theory**: Deleuze\\'s idea of \"becoming\" has influenced critical theory, particularly in the areas of feminist and queer theory, as it challenges traditional notions of fixed identities.\\n* **Ecology**: Deleuze\\'s concept of the BWO has been applied to understand the interconnectedness of ecosystems and the resistance of non-human entities to human domination.\\n\\nHere\\'s an example of Deleuze\\'s ideas in action:\\n\\nIn his book \"A Thousand Plateaus,\" Deleuze and Guattari describe the concept of \"becoming-animal\" to challenge traditional notions of human identity. They argue that animals are not fixed entities with fixed essences, but are instead constantly changing and becoming something else. This idea has been influential in fields such as environmental studies and animal studies, where it is used to rethink human relationships with non-human entities.\\n\\nI hope this answer provides a comprehensive and engaging introduction to the thought of Gilles Deleuze!'"
      ]
     },
     "execution_count": 54,
     "metadata": {},
     "output_type": "execute_result"
    }
   ],
   "source": [
    "rag(\"who is gilles deleuze?\")"
   ]
  },
  {
   "cell_type": "markdown",
   "id": "8bbf5052-67d4-49d3-8679-244e0abf6ba4",
   "metadata": {},
   "source": [
    "*You can see that there is no information about Gilles Deleuze in the CONTEXT (in index), and we asked in the prompt to base it only on the context, but LLM still responds. That's not really good.*\n",
    "\n",
    "So I had to rewrite prompt to CONTEXT = EMPTY, if index has no results."
   ]
  },
  {
   "cell_type": "code",
   "execution_count": 58,
   "id": "0af4f73c-773a-48d4-8105-b1802339c96d",
   "metadata": {},
   "outputs": [
    {
     "name": "stdout",
     "output_type": "stream",
     "text": [
      "You are an intellectual assistant specializing in philosophy. Your task is to help users find and interpret philosophical concepts and ideas using information from the provided texts. \n",
      "\n",
      "Answer the QUESTION based on the CONTEXT from the philosophy database.\n",
      "\n",
      "While give a response, be consider:\n",
      "* Be based only(!) on CONTEXT, if context isn't EMPTY. Else tell that you have no answer.\n",
      "* Provide a response that is understandable and recreates the historical, intellectual, or social context in which the concept was created if the question concerns a concept. \n",
      "* If the question concerns a thinker, describe their general teaching, core ideas, and influence on philosophy.\n",
      "* Give an example if you have some.\n",
      "\n",
      "QUESTION: who is gilles deleuze?\n",
      "\n",
      "CONTEXT: \n",
      "EMPTY\n"
     ]
    },
    {
     "data": {
      "text/plain": [
       "'Since the context is empty, I don\\'t have any specific information to work with. However, I can provide some general information about Gilles Deleuze.\\n\\nGilles Deleuze (1925-1995) was a French philosopher who is widely regarded as one of the most important and influential thinkers of the 20th century. He was a key figure in the development of poststructuralism and postmodern thought, and his work has had a significant impact on many fields, including philosophy, sociology, cultural studies, and art theory.\\n\\nDeleuze\\'s philosophy is characterized by a number of key concepts and ideas, including:\\n\\n1. Anti-essentialism: Deleuze is critical of traditional notions of essentialism, which he sees as being based on the idea that things have a fixed and unchanging essence or identity.\\n2. Difference: Deleuze argues that difference is a fundamental aspect of reality, and that it is the driving force behind all change and evolution.\\n3. Rhizome: Deleuze and his collaborator Félix Guattari use the metaphor of the rhizome to describe complex systems that are decentralized, non-hierarchical, and constantly evolving.\\n4. Desire: Deleuze sees desire as a fundamental force in the world, driving human behavior and shaping the social and political landscape.\\n5. Schizophrenia: Deleuze is fascinated by the concept of schizophrenia, which he sees as a disorder that challenges our traditional notions of identity, self, and reality.\\n\\nSome of Deleuze\\'s most famous works include \"Anti-Oedipus\" (co-authored with Félix Guattari), \"A Thousand Plateaus\" (co-authored with Félix Guattari), and \"Difference and Repetition\".\\n\\nI hope this gives you a sense of Deleuze\\'s philosophical ideas and approach.'"
      ]
     },
     "execution_count": 58,
     "metadata": {},
     "output_type": "execute_result"
    }
   ],
   "source": [
    "rag(\"who is gilles deleuze?\")"
   ]
  },
  {
   "cell_type": "markdown",
   "id": "f8f583a6-1c56-4749-bfd0-7dfb88303bc6",
   "metadata": {},
   "source": [
    "*Okay...*"
   ]
  },
  {
   "cell_type": "markdown",
   "id": "f2cbcd71-95f0-48df-875f-cfd703a8baa8",
   "metadata": {},
   "source": [
    "# Offline RAG Evaluation"
   ]
  },
  {
   "cell_type": "markdown",
   "id": "a5181afe-7354-48f6-9409-28181933b07e",
   "metadata": {},
   "source": [
    "## Cosine similarity "
   ]
  },
  {
   "cell_type": "markdown",
   "id": "a0e02dd3-2e83-430c-b33f-1a364bafcea0",
   "metadata": {},
   "source": [
    "cosine similarity of embeddings: `ground_truth_dataset answers` VS `llm answers based on context`"
   ]
  },
  {
   "cell_type": "code",
   "execution_count": 104,
   "id": "bd617719-5bd4-44e9-b585-4f66ae7cc89f",
   "metadata": {
    "scrolled": true
   },
   "outputs": [
    {
     "name": "stderr",
     "output_type": "stream",
     "text": [
      "/usr/local/python/3.12.1/lib/python3.12/site-packages/transformers/tokenization_utils_base.py:1617: FutureWarning: `clean_up_tokenization_spaces` was not set. It will be set to `True` by default. This behavior will be deprecated in transformers v4.45, and will be then set to `False` by default. For more details check this issue: https://github.com/huggingface/transformers/issues/31884\n",
      "  warnings.warn(\n",
      "0it [00:00, ?it/s]"
     ]
    },
    {
     "name": "stdout",
     "output_type": "stream",
     "text": [
      "Token count (12070) exceeds the 8192-token limit! Trimming the text.\n"
     ]
    },
    {
     "name": "stderr",
     "output_type": "stream",
     "text": [
      "1it [00:03,  3.06s/it]"
     ]
    },
    {
     "name": "stdout",
     "output_type": "stream",
     "text": [
      "Token count (12070) exceeds the 8192-token limit! Trimming the text.\n"
     ]
    },
    {
     "name": "stderr",
     "output_type": "stream",
     "text": [
      "2it [00:05,  2.92s/it]"
     ]
    },
    {
     "name": "stdout",
     "output_type": "stream",
     "text": [
      "Token count (12070) exceeds the 8192-token limit! Trimming the text.\n"
     ]
    },
    {
     "name": "stderr",
     "output_type": "stream",
     "text": [
      "3it [00:19,  7.61s/it]"
     ]
    },
    {
     "name": "stdout",
     "output_type": "stream",
     "text": [
      "Token count (12070) exceeds the 8192-token limit! Trimming the text.\n"
     ]
    },
    {
     "name": "stderr",
     "output_type": "stream",
     "text": [
      "4it [00:35, 11.09s/it]"
     ]
    },
    {
     "name": "stdout",
     "output_type": "stream",
     "text": [
      "Token count (12070) exceeds the 8192-token limit! Trimming the text.\n"
     ]
    },
    {
     "name": "stderr",
     "output_type": "stream",
     "text": [
      "5it [00:51, 12.98s/it]"
     ]
    },
    {
     "name": "stdout",
     "output_type": "stream",
     "text": [
      "Token count (12070) exceeds the 8192-token limit! Trimming the text.\n"
     ]
    },
    {
     "name": "stderr",
     "output_type": "stream",
     "text": [
      "6it [01:09, 14.45s/it]"
     ]
    },
    {
     "name": "stdout",
     "output_type": "stream",
     "text": [
      "Token count (0) is within the 8192-token limit.\n"
     ]
    },
    {
     "name": "stderr",
     "output_type": "stream",
     "text": [
      "7it [01:10, 10.05s/it]"
     ]
    },
    {
     "name": "stdout",
     "output_type": "stream",
     "text": [
      "Token count (349) is within the 8192-token limit.\n"
     ]
    },
    {
     "name": "stderr",
     "output_type": "stream",
     "text": [
      "8it [01:12,  7.51s/it]"
     ]
    },
    {
     "name": "stdout",
     "output_type": "stream",
     "text": [
      "Token count (3314) is within the 8192-token limit.\n"
     ]
    },
    {
     "name": "stderr",
     "output_type": "stream",
     "text": [
      "9it [01:16,  6.49s/it]"
     ]
    },
    {
     "name": "stdout",
     "output_type": "stream",
     "text": [
      "Token count (5249) is within the 8192-token limit.\n"
     ]
    },
    {
     "name": "stderr",
     "output_type": "stream",
     "text": [
      "10it [01:29,  8.37s/it]"
     ]
    },
    {
     "name": "stdout",
     "output_type": "stream",
     "text": [
      "Token count (6005) is within the 8192-token limit.\n"
     ]
    },
    {
     "name": "stderr",
     "output_type": "stream",
     "text": [
      "11it [01:41,  9.61s/it]"
     ]
    },
    {
     "name": "stdout",
     "output_type": "stream",
     "text": [
      "Token count (4856) is within the 8192-token limit.\n"
     ]
    },
    {
     "name": "stderr",
     "output_type": "stream",
     "text": [
      "12it [01:50,  9.55s/it]"
     ]
    },
    {
     "name": "stdout",
     "output_type": "stream",
     "text": [
      "Token count (4960) is within the 8192-token limit.\n"
     ]
    },
    {
     "name": "stderr",
     "output_type": "stream",
     "text": [
      "13it [02:02, 10.18s/it]"
     ]
    },
    {
     "name": "stdout",
     "output_type": "stream",
     "text": [
      "Token count (5220) is within the 8192-token limit.\n"
     ]
    },
    {
     "name": "stderr",
     "output_type": "stream",
     "text": [
      "14it [02:13, 10.31s/it]"
     ]
    },
    {
     "name": "stdout",
     "output_type": "stream",
     "text": [
      "Token count (3218) is within the 8192-token limit.\n"
     ]
    },
    {
     "name": "stderr",
     "output_type": "stream",
     "text": [
      "15it [02:20,  9.41s/it]"
     ]
    },
    {
     "name": "stdout",
     "output_type": "stream",
     "text": [
      "Token count (6343) is within the 8192-token limit.\n"
     ]
    },
    {
     "name": "stderr",
     "output_type": "stream",
     "text": [
      "16it [02:34, 10.73s/it]"
     ]
    },
    {
     "name": "stdout",
     "output_type": "stream",
     "text": [
      "Token count (4293) is within the 8192-token limit.\n"
     ]
    },
    {
     "name": "stderr",
     "output_type": "stream",
     "text": [
      "17it [02:43, 10.35s/it]"
     ]
    },
    {
     "name": "stdout",
     "output_type": "stream",
     "text": [
      "Token count (5451) is within the 8192-token limit.\n"
     ]
    },
    {
     "name": "stderr",
     "output_type": "stream",
     "text": [
      "18it [02:55, 10.74s/it]"
     ]
    },
    {
     "name": "stdout",
     "output_type": "stream",
     "text": [
      "Token count (2871) is within the 8192-token limit.\n"
     ]
    },
    {
     "name": "stderr",
     "output_type": "stream",
     "text": [
      "19it [03:01,  9.32s/it]"
     ]
    },
    {
     "name": "stdout",
     "output_type": "stream",
     "text": [
      "Token count (3035) is within the 8192-token limit.\n"
     ]
    },
    {
     "name": "stderr",
     "output_type": "stream",
     "text": [
      "20it [03:08,  8.75s/it]"
     ]
    },
    {
     "name": "stdout",
     "output_type": "stream",
     "text": [
      "Token count (3421) is within the 8192-token limit.\n"
     ]
    },
    {
     "name": "stderr",
     "output_type": "stream",
     "text": [
      "21it [03:17,  8.62s/it]"
     ]
    },
    {
     "name": "stdout",
     "output_type": "stream",
     "text": [
      "Token count (4572) is within the 8192-token limit.\n"
     ]
    },
    {
     "name": "stderr",
     "output_type": "stream",
     "text": [
      "22it [03:27,  9.25s/it]"
     ]
    },
    {
     "name": "stdout",
     "output_type": "stream",
     "text": [
      "Token count (4989) is within the 8192-token limit.\n"
     ]
    },
    {
     "name": "stderr",
     "output_type": "stream",
     "text": [
      "23it [03:39,  9.92s/it]"
     ]
    },
    {
     "name": "stdout",
     "output_type": "stream",
     "text": [
      "Token count (1678) is within the 8192-token limit.\n"
     ]
    },
    {
     "name": "stderr",
     "output_type": "stream",
     "text": [
      "24it [03:42,  7.96s/it]"
     ]
    },
    {
     "name": "stdout",
     "output_type": "stream",
     "text": [
      "Token count (3550) is within the 8192-token limit.\n"
     ]
    },
    {
     "name": "stderr",
     "output_type": "stream",
     "text": [
      "25it [03:50,  9.24s/it]"
     ]
    },
    {
     "name": "stdout",
     "output_type": "stream",
     "text": [
      "Evaluation completed and results saved.\n"
     ]
    },
    {
     "name": "stderr",
     "output_type": "stream",
     "text": [
      "\n"
     ]
    }
   ],
   "source": [
    "import numpy as np\n",
    "import pandas as pd\n",
    "from sentence_transformers import SentenceTransformer\n",
    "from sklearn.metrics.pairwise import cosine_similarity\n",
    "from tqdm import tqdm\n",
    "import os\n",
    "\n",
    "class RAGEvaluator:\n",
    "    def __init__(self, model_name=\"all-MiniLM-L6-v2\"):\n",
    "        self.model = SentenceTransformer(model_name)\n",
    "        self.processed_questions = set()\n",
    "\n",
    "    def get_llm_response(self, question):\n",
    "        return rag(question)\n",
    "\n",
    "    def compute_cosine_similarity(self, llm_response, gt_response):\n",
    "        llm_embedding = self.model.encode([llm_response])\n",
    "        gt_embedding = self.model.encode([gt_response])\n",
    "        similarity_score = cosine_similarity(llm_embedding, gt_embedding)[0][0]\n",
    "        return similarity_score\n",
    "\n",
    "    def evaluate(self, gt_questions, gt_responses, output_csv='../data/evaluation_results.csv'):\n",
    "        \n",
    "        for i, question in tqdm(enumerate(gt_questions)):\n",
    "            # Пропускаем уже обработанные вопросы\n",
    "            if question in self.processed_questions:\n",
    "                continue\n",
    "\n",
    "            llm_response = self.get_llm_response(question)\n",
    "            similarity_score = self.compute_cosine_similarity(llm_response, gt_responses[i])\n",
    "            \n",
    "            result_df = pd.DataFrame([{\n",
    "                'question': question,\n",
    "                'gt_response': gt_responses[i],\n",
    "                'llm_response': llm_response,\n",
    "                'similarity_score': similarity_score\n",
    "            }])\n",
    "            result_df.to_csv(output_csv, mode='a', header=False, index=False)\n",
    "            self.processed_questions.add(question)\n",
    "        print(\"Evaluation completed and results saved.\")\n",
    "\n",
    "# Пример использования\n",
    "evaluator = RAGEvaluator()\n",
    "# Prepare ground truth dataset\n",
    "gt_pairs = prepare_evaluation_dataset(50)[25:]\n",
    "gt_questions = [pair['question'] for pair in gt_pairs]\n",
    "gt_responses = [pair['relevant_chunks'][0] for pair in gt_pairs]\n",
    "\n",
    "evaluator.evaluate(gt_questions, gt_responses)"
   ]
  },
  {
   "cell_type": "markdown",
   "id": "bc40ef29-e34f-48b5-8a02-e555e190b274",
   "metadata": {},
   "source": [
    "### Results for cosine similarity "
   ]
  },
  {
   "cell_type": "code",
   "execution_count": 111,
   "id": "afb4d044-d281-452d-b43b-7210b8a40b70",
   "metadata": {},
   "outputs": [
    {
     "data": {
      "text/plain": [
       "count    49.000000\n",
       "mean      0.612356\n",
       "std       0.138670\n",
       "min       0.060956\n",
       "25%       0.556567\n",
       "50%       0.656393\n",
       "75%       0.696515\n",
       "max       0.835106\n",
       "Name: similarity_score, dtype: float64"
      ]
     },
     "execution_count": 111,
     "metadata": {},
     "output_type": "execute_result"
    }
   ],
   "source": [
    "import pandas as pd\n",
    "\n",
    "df = pd.read_csv('../data/evaluation_results.csv')\n",
    "df['similarity_score'].describe()"
   ]
  },
  {
   "cell_type": "markdown",
   "id": "843c97aa-db57-4afa-8b3a-25b2323f8876",
   "metadata": {},
   "source": [
    "# Online RAG Evaluation (user feedback)"
   ]
  },
  {
   "cell_type": "code",
   "execution_count": 29,
   "id": "82b6a11a-f91b-4568-bd64-6b54c416c746",
   "metadata": {},
   "outputs": [
    {
     "name": "stderr",
     "output_type": "stream",
     "text": [
      "Token indices sequence length is longer than the specified maximum sequence length for this model (3519 > 1024). Running this sequence through the model will result in indexing errors\n"
     ]
    },
    {
     "name": "stdout",
     "output_type": "stream",
     "text": [
      "Token count (3519) is within the 8192-token limit.\n"
     ]
    },
    {
     "data": {
      "text/plain": [
       "'Based on the provided context, I can explain the concept of abduction in the context of epistemology and the philosophy of science.\\n\\nAbduction is a type of reasoning that is often used in everyday life, science, and philosophy. It involves making an educated guess or inference from incomplete or insufficient information. In other words, abduction is a form of reasoning that involves proposing an explanation for an observed phenomenon based on available data, even if the data is not sufficient to logically prove the explanation.\\n\\nThe term \"abduction\" comes from the philosophy of science, where it is often used to describe the process of scientists proposing hypotheses or explanations for observed phenomena, even when the data is not yet comprehensive or conclusive. In this context, abduction is seen as a crucial step in the scientific method, allowing scientists to make educated guesses and test them against further evidence.\\n\\nIn the example provided, the author illustrates abduction in a everyday context. The author enters the kitchen to find a plate and cup on the table, with breadcrumbs and a pat of butter on it, and concludes that one of their house-mates got up at night to make themselves a midnight snack and was too tired to clear the table. This conclusion is based on the available data, even though it is not a definitive or logically conclusive explanation.\\n\\nThe authors of the text highlight the distinction between abduction and other forms of reasoning, such as induction and deduction. Abduction is distinct from induction, which involves making generalizations based on a limited sample of data. Abduction is also distinct from deduction, which involves logically deriving a conclusion from a set of premises.\\n\\nThe text also discusses the relationship between abduction and the concept of explanation. The authors argue that abduction is often used in science and philosophy to propose explanations for observed phenomena, even when the data is not sufficient to logically prove the explanation. The authors also highlight the importance of considering explanatory considerations, such as simplicity and parsimony, when evaluating the strength of an abductive inference.\\n\\nFinally, the text touches on the criticisms of abduction, particularly in the context of probabilistic versions of abduction. The authors discuss the challenges of integrating abduction into formal frameworks for reasoning and decision-making, and the potential pitfalls of using abduction in the absence of further evidence.\\n\\nOverall, the concept of abduction is an important one in the context of epistemology and the philosophy of science, and has significant implications for our understanding of reasoning, explanation, and evidence in everyday life and scientific inquiry.'"
      ]
     },
     "execution_count": 29,
     "metadata": {},
     "output_type": "execute_result"
    }
   ],
   "source": [
    "question = \"give me general concept about what is abduction\"\n",
    "answer = rag(question)\n",
    "answer"
   ]
  },
  {
   "cell_type": "code",
   "execution_count": 48,
   "id": "804274db-bf1f-40c2-92a2-41268a6cb12c",
   "metadata": {},
   "outputs": [],
   "source": [
    "# save to elastic\n",
    "from datetime import datetime\n",
    "\n",
    "def save_feedback(rating):\n",
    "    #create document for evaluation\n",
    "    document = {\n",
    "        'question': question,\n",
    "        'response': answer,\n",
    "        'rating': rating,\n",
    "        'timestamp': datetime.now()\n",
    "    }\n",
    "    # Сохранение документа в индекс\n",
    "    print(es_client.index(index='response_ratings', body=document))"
   ]
  },
  {
   "cell_type": "code",
   "execution_count": 46,
   "id": "979700d8-a1a2-41b0-82f9-4d91d7052333",
   "metadata": {},
   "outputs": [],
   "source": [
    "rating = 0\n",
    "\n",
    "def upvote():\n",
    "    global rating\n",
    "    rating = 1\n",
    "    save_feedback(rating)\n",
    "    \n",
    "def downvote():\n",
    "    global rating\n",
    "    rating = -1\n",
    "    save_feedback(rating)"
   ]
  },
  {
   "cell_type": "markdown",
   "id": "af45ab67-abe6-4faa-ba8a-18f5cb3fcc27",
   "metadata": {},
   "source": [
    "### Write feedback here: write `upvote()` or `downvote()`:"
   ]
  },
  {
   "cell_type": "code",
   "execution_count": 53,
   "id": "c517ee61-7580-4561-9d58-03bcd9d49cc1",
   "metadata": {},
   "outputs": [
    {
     "name": "stdout",
     "output_type": "stream",
     "text": [
      "{'_index': 'response_ratings', '_id': '2M6VbpIBSno6HdkhfvjV', '_version': 1, 'result': 'created', '_shards': {'total': 2, 'successful': 2, 'failed': 0}, '_seq_no': 4, '_primary_term': 1}\n"
     ]
    },
    {
     "data": {
      "text/plain": [
       "1"
      ]
     },
     "execution_count": 53,
     "metadata": {},
     "output_type": "execute_result"
    }
   ],
   "source": [
    "upvote()\n",
    "rating"
   ]
  },
  {
   "cell_type": "code",
   "execution_count": 52,
   "id": "495334fd-ea34-45c7-a374-05b89c94793d",
   "metadata": {},
   "outputs": [
    {
     "name": "stdout",
     "output_type": "stream",
     "text": [
      "{'_index': 'response_ratings', '_id': 'r-2UbpIBW1rLOQO2_thq', '_version': 1, 'result': 'created', '_shards': {'total': 2, 'successful': 2, 'failed': 0}, '_seq_no': 3, '_primary_term': 1}\n"
     ]
    },
    {
     "data": {
      "text/plain": [
       "-1"
      ]
     },
     "execution_count": 52,
     "metadata": {},
     "output_type": "execute_result"
    }
   ],
   "source": [
    "downvote()\n",
    "rating"
   ]
  }
 ],
 "metadata": {
  "kernelspec": {
   "display_name": "Python 3 (ipykernel)",
   "language": "python",
   "name": "python3"
  },
  "language_info": {
   "codemirror_mode": {
    "name": "ipython",
    "version": 3
   },
   "file_extension": ".py",
   "mimetype": "text/x-python",
   "name": "python",
   "nbconvert_exporter": "python",
   "pygments_lexer": "ipython3",
   "version": "3.12.7"
  }
 },
 "nbformat": 4,
 "nbformat_minor": 5
}
